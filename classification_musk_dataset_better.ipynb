{
  "nbformat": 4,
  "nbformat_minor": 0,
  "metadata": {
    "colab": {
      "name": "classification_musk_dataset_better.ipynb",
      "provenance": [],
      "collapsed_sections": []
    },
    "kernelspec": {
      "name": "python3",
      "display_name": "Python 3"
    }
  },
  "cells": [
    {
      "cell_type": "code",
      "metadata": {
        "id": "36iUOeqA7W6d",
        "colab_type": "code",
        "colab": {
          "base_uri": "https://localhost:8080/",
          "height": 34
        },
        "outputId": "3f905900-7173-473d-fa5d-ee95360db819"
      },
      "source": [
        "from google.colab import drive\n",
        "drive.mount('/content/drive')\n"
      ],
      "execution_count": 173,
      "outputs": [
        {
          "output_type": "stream",
          "text": [
            "Drive already mounted at /content/drive; to attempt to forcibly remount, call drive.mount(\"/content/drive\", force_remount=True).\n"
          ],
          "name": "stdout"
        }
      ]
    },
    {
      "cell_type": "code",
      "metadata": {
        "id": "uCXAwUtb8jf5",
        "colab_type": "code",
        "colab": {}
      },
      "source": [
        "# main libraries\n",
        "import pandas as pd\n",
        "import numpy as np\n",
        "import time\n",
        "# visual libraries\n",
        "from matplotlib import pyplot as plt\n",
        "import seaborn as sns\n",
        "from mpl_toolkits.mplot3d import Axes3D \n",
        "plt.style.use('ggplot')\n",
        "# sklearn libraries\n",
        "from sklearn.neighbors import KNeighborsClassifier\n",
        "from sklearn.model_selection import train_test_split\n",
        "from sklearn.preprocessing import normalize\n",
        "from sklearn.metrics import confusion_matrix,accuracy_score,precision_score,recall_score,f1_score,matthews_corrcoef,classification_report,roc_curve\n",
        "from sklearn.externals import joblib\n",
        "from sklearn.preprocessing import StandardScaler\n",
        "from sklearn.decomposition import PCA\n",
        "from sklearn.ensemble import ExtraTreesClassifier\n",
        "#Kearas libraries \n",
        "from keras import Sequential\n",
        "from keras.layers import Dense, Dropout\n",
        "from keras.optimizers import SGD\n",
        "from keras.utils import plot_model\n"
      ],
      "execution_count": 0,
      "outputs": []
    },
    {
      "cell_type": "code",
      "metadata": {
        "id": "UwFVACt28rQN",
        "colab_type": "code",
        "colab": {}
      },
      "source": [
        "data = pd.read_csv('/content/drive/My Drive/musk_csv.csv')"
      ],
      "execution_count": 0,
      "outputs": []
    },
    {
      "cell_type": "code",
      "metadata": {
        "id": "NoiyRTz28tCQ",
        "colab_type": "code",
        "colab": {
          "base_uri": "https://localhost:8080/",
          "height": 244
        },
        "outputId": "80c9a1e5-22de-4f6d-a86c-304db3bf29bc"
      },
      "source": [
        "data.head()"
      ],
      "execution_count": 176,
      "outputs": [
        {
          "output_type": "execute_result",
          "data": {
            "text/html": [
              "<div>\n",
              "<style scoped>\n",
              "    .dataframe tbody tr th:only-of-type {\n",
              "        vertical-align: middle;\n",
              "    }\n",
              "\n",
              "    .dataframe tbody tr th {\n",
              "        vertical-align: top;\n",
              "    }\n",
              "\n",
              "    .dataframe thead th {\n",
              "        text-align: right;\n",
              "    }\n",
              "</style>\n",
              "<table border=\"1\" class=\"dataframe\">\n",
              "  <thead>\n",
              "    <tr style=\"text-align: right;\">\n",
              "      <th></th>\n",
              "      <th>ID</th>\n",
              "      <th>molecule_name</th>\n",
              "      <th>conformation_name</th>\n",
              "      <th>f1</th>\n",
              "      <th>f2</th>\n",
              "      <th>f3</th>\n",
              "      <th>f4</th>\n",
              "      <th>f5</th>\n",
              "      <th>f6</th>\n",
              "      <th>f7</th>\n",
              "      <th>f8</th>\n",
              "      <th>f9</th>\n",
              "      <th>f10</th>\n",
              "      <th>f11</th>\n",
              "      <th>f12</th>\n",
              "      <th>f13</th>\n",
              "      <th>f14</th>\n",
              "      <th>f15</th>\n",
              "      <th>f16</th>\n",
              "      <th>f17</th>\n",
              "      <th>f18</th>\n",
              "      <th>f19</th>\n",
              "      <th>f20</th>\n",
              "      <th>f21</th>\n",
              "      <th>f22</th>\n",
              "      <th>f23</th>\n",
              "      <th>f24</th>\n",
              "      <th>f25</th>\n",
              "      <th>f26</th>\n",
              "      <th>f27</th>\n",
              "      <th>f28</th>\n",
              "      <th>f29</th>\n",
              "      <th>f30</th>\n",
              "      <th>f31</th>\n",
              "      <th>f32</th>\n",
              "      <th>f33</th>\n",
              "      <th>f34</th>\n",
              "      <th>f35</th>\n",
              "      <th>f36</th>\n",
              "      <th>f37</th>\n",
              "      <th>...</th>\n",
              "      <th>f128</th>\n",
              "      <th>f129</th>\n",
              "      <th>f130</th>\n",
              "      <th>f131</th>\n",
              "      <th>f132</th>\n",
              "      <th>f133</th>\n",
              "      <th>f134</th>\n",
              "      <th>f135</th>\n",
              "      <th>f136</th>\n",
              "      <th>f137</th>\n",
              "      <th>f138</th>\n",
              "      <th>f139</th>\n",
              "      <th>f140</th>\n",
              "      <th>f141</th>\n",
              "      <th>f142</th>\n",
              "      <th>f143</th>\n",
              "      <th>f144</th>\n",
              "      <th>f145</th>\n",
              "      <th>f146</th>\n",
              "      <th>f147</th>\n",
              "      <th>f148</th>\n",
              "      <th>f149</th>\n",
              "      <th>f150</th>\n",
              "      <th>f151</th>\n",
              "      <th>f152</th>\n",
              "      <th>f153</th>\n",
              "      <th>f154</th>\n",
              "      <th>f155</th>\n",
              "      <th>f156</th>\n",
              "      <th>f157</th>\n",
              "      <th>f158</th>\n",
              "      <th>f159</th>\n",
              "      <th>f160</th>\n",
              "      <th>f161</th>\n",
              "      <th>f162</th>\n",
              "      <th>f163</th>\n",
              "      <th>f164</th>\n",
              "      <th>f165</th>\n",
              "      <th>f166</th>\n",
              "      <th>class</th>\n",
              "    </tr>\n",
              "  </thead>\n",
              "  <tbody>\n",
              "    <tr>\n",
              "      <th>0</th>\n",
              "      <td>1</td>\n",
              "      <td>MUSK-211</td>\n",
              "      <td>211_1+1</td>\n",
              "      <td>46</td>\n",
              "      <td>-108</td>\n",
              "      <td>-60</td>\n",
              "      <td>-69</td>\n",
              "      <td>-117</td>\n",
              "      <td>49</td>\n",
              "      <td>38</td>\n",
              "      <td>-161</td>\n",
              "      <td>-8</td>\n",
              "      <td>5</td>\n",
              "      <td>-323</td>\n",
              "      <td>-220</td>\n",
              "      <td>-113</td>\n",
              "      <td>-299</td>\n",
              "      <td>-283</td>\n",
              "      <td>-307</td>\n",
              "      <td>-31</td>\n",
              "      <td>-106</td>\n",
              "      <td>-227</td>\n",
              "      <td>-42</td>\n",
              "      <td>-59</td>\n",
              "      <td>-22</td>\n",
              "      <td>-67</td>\n",
              "      <td>189</td>\n",
              "      <td>81</td>\n",
              "      <td>17</td>\n",
              "      <td>-27</td>\n",
              "      <td>-89</td>\n",
              "      <td>-67</td>\n",
              "      <td>105</td>\n",
              "      <td>-116</td>\n",
              "      <td>124</td>\n",
              "      <td>-106</td>\n",
              "      <td>5</td>\n",
              "      <td>-120</td>\n",
              "      <td>63</td>\n",
              "      <td>-165</td>\n",
              "      <td>...</td>\n",
              "      <td>81</td>\n",
              "      <td>-114</td>\n",
              "      <td>-187</td>\n",
              "      <td>45</td>\n",
              "      <td>-118</td>\n",
              "      <td>-75</td>\n",
              "      <td>-182</td>\n",
              "      <td>-234</td>\n",
              "      <td>-19</td>\n",
              "      <td>12</td>\n",
              "      <td>-13</td>\n",
              "      <td>-41</td>\n",
              "      <td>-119</td>\n",
              "      <td>-149</td>\n",
              "      <td>70</td>\n",
              "      <td>17</td>\n",
              "      <td>-20</td>\n",
              "      <td>-177</td>\n",
              "      <td>-101</td>\n",
              "      <td>-116</td>\n",
              "      <td>-14</td>\n",
              "      <td>-50</td>\n",
              "      <td>24</td>\n",
              "      <td>-81</td>\n",
              "      <td>-125</td>\n",
              "      <td>-114</td>\n",
              "      <td>-44</td>\n",
              "      <td>128</td>\n",
              "      <td>3</td>\n",
              "      <td>-244</td>\n",
              "      <td>-308</td>\n",
              "      <td>52</td>\n",
              "      <td>-7</td>\n",
              "      <td>39</td>\n",
              "      <td>126</td>\n",
              "      <td>156</td>\n",
              "      <td>-50</td>\n",
              "      <td>-112</td>\n",
              "      <td>96</td>\n",
              "      <td>1</td>\n",
              "    </tr>\n",
              "    <tr>\n",
              "      <th>1</th>\n",
              "      <td>2</td>\n",
              "      <td>MUSK-211</td>\n",
              "      <td>211_1+10</td>\n",
              "      <td>41</td>\n",
              "      <td>-188</td>\n",
              "      <td>-145</td>\n",
              "      <td>22</td>\n",
              "      <td>-117</td>\n",
              "      <td>-6</td>\n",
              "      <td>57</td>\n",
              "      <td>-171</td>\n",
              "      <td>-39</td>\n",
              "      <td>-100</td>\n",
              "      <td>-319</td>\n",
              "      <td>-111</td>\n",
              "      <td>-228</td>\n",
              "      <td>-281</td>\n",
              "      <td>-281</td>\n",
              "      <td>-300</td>\n",
              "      <td>54</td>\n",
              "      <td>-149</td>\n",
              "      <td>-98</td>\n",
              "      <td>-196</td>\n",
              "      <td>-27</td>\n",
              "      <td>-22</td>\n",
              "      <td>2</td>\n",
              "      <td>75</td>\n",
              "      <td>49</td>\n",
              "      <td>-34</td>\n",
              "      <td>45</td>\n",
              "      <td>-91</td>\n",
              "      <td>32</td>\n",
              "      <td>95</td>\n",
              "      <td>-116</td>\n",
              "      <td>85</td>\n",
              "      <td>-23</td>\n",
              "      <td>42</td>\n",
              "      <td>-58</td>\n",
              "      <td>61</td>\n",
              "      <td>-171</td>\n",
              "      <td>...</td>\n",
              "      <td>88</td>\n",
              "      <td>-21</td>\n",
              "      <td>-32</td>\n",
              "      <td>32</td>\n",
              "      <td>-128</td>\n",
              "      <td>-72</td>\n",
              "      <td>-124</td>\n",
              "      <td>-218</td>\n",
              "      <td>-94</td>\n",
              "      <td>53</td>\n",
              "      <td>-79</td>\n",
              "      <td>-20</td>\n",
              "      <td>-35</td>\n",
              "      <td>-26</td>\n",
              "      <td>4</td>\n",
              "      <td>50</td>\n",
              "      <td>17</td>\n",
              "      <td>-177</td>\n",
              "      <td>-102</td>\n",
              "      <td>-121</td>\n",
              "      <td>-66</td>\n",
              "      <td>-77</td>\n",
              "      <td>51</td>\n",
              "      <td>-41</td>\n",
              "      <td>-34</td>\n",
              "      <td>-32</td>\n",
              "      <td>-63</td>\n",
              "      <td>115</td>\n",
              "      <td>-5</td>\n",
              "      <td>-235</td>\n",
              "      <td>-59</td>\n",
              "      <td>-2</td>\n",
              "      <td>52</td>\n",
              "      <td>103</td>\n",
              "      <td>136</td>\n",
              "      <td>169</td>\n",
              "      <td>-61</td>\n",
              "      <td>-136</td>\n",
              "      <td>79</td>\n",
              "      <td>1</td>\n",
              "    </tr>\n",
              "    <tr>\n",
              "      <th>2</th>\n",
              "      <td>3</td>\n",
              "      <td>MUSK-211</td>\n",
              "      <td>211_1+11</td>\n",
              "      <td>46</td>\n",
              "      <td>-194</td>\n",
              "      <td>-145</td>\n",
              "      <td>28</td>\n",
              "      <td>-117</td>\n",
              "      <td>73</td>\n",
              "      <td>57</td>\n",
              "      <td>-168</td>\n",
              "      <td>-39</td>\n",
              "      <td>-22</td>\n",
              "      <td>-319</td>\n",
              "      <td>-111</td>\n",
              "      <td>-104</td>\n",
              "      <td>-283</td>\n",
              "      <td>-282</td>\n",
              "      <td>-303</td>\n",
              "      <td>52</td>\n",
              "      <td>-152</td>\n",
              "      <td>-97</td>\n",
              "      <td>-225</td>\n",
              "      <td>-28</td>\n",
              "      <td>-22</td>\n",
              "      <td>2</td>\n",
              "      <td>179</td>\n",
              "      <td>49</td>\n",
              "      <td>-33</td>\n",
              "      <td>46</td>\n",
              "      <td>-88</td>\n",
              "      <td>22</td>\n",
              "      <td>79</td>\n",
              "      <td>-116</td>\n",
              "      <td>19</td>\n",
              "      <td>-11</td>\n",
              "      <td>6</td>\n",
              "      <td>-38</td>\n",
              "      <td>71</td>\n",
              "      <td>-175</td>\n",
              "      <td>...</td>\n",
              "      <td>64</td>\n",
              "      <td>0</td>\n",
              "      <td>-23</td>\n",
              "      <td>-15</td>\n",
              "      <td>-129</td>\n",
              "      <td>-74</td>\n",
              "      <td>-125</td>\n",
              "      <td>-221</td>\n",
              "      <td>-93</td>\n",
              "      <td>53</td>\n",
              "      <td>-72</td>\n",
              "      <td>-19</td>\n",
              "      <td>-33</td>\n",
              "      <td>-26</td>\n",
              "      <td>3</td>\n",
              "      <td>49</td>\n",
              "      <td>17</td>\n",
              "      <td>-177</td>\n",
              "      <td>-102</td>\n",
              "      <td>-119</td>\n",
              "      <td>-66</td>\n",
              "      <td>-81</td>\n",
              "      <td>51</td>\n",
              "      <td>-41</td>\n",
              "      <td>-27</td>\n",
              "      <td>-41</td>\n",
              "      <td>-140</td>\n",
              "      <td>77</td>\n",
              "      <td>-163</td>\n",
              "      <td>-238</td>\n",
              "      <td>-134</td>\n",
              "      <td>-154</td>\n",
              "      <td>57</td>\n",
              "      <td>143</td>\n",
              "      <td>142</td>\n",
              "      <td>165</td>\n",
              "      <td>-67</td>\n",
              "      <td>-145</td>\n",
              "      <td>39</td>\n",
              "      <td>1</td>\n",
              "    </tr>\n",
              "    <tr>\n",
              "      <th>3</th>\n",
              "      <td>4</td>\n",
              "      <td>MUSK-211</td>\n",
              "      <td>211_1+12</td>\n",
              "      <td>41</td>\n",
              "      <td>-188</td>\n",
              "      <td>-145</td>\n",
              "      <td>22</td>\n",
              "      <td>-117</td>\n",
              "      <td>-7</td>\n",
              "      <td>57</td>\n",
              "      <td>-170</td>\n",
              "      <td>-39</td>\n",
              "      <td>-99</td>\n",
              "      <td>-319</td>\n",
              "      <td>-111</td>\n",
              "      <td>-228</td>\n",
              "      <td>-282</td>\n",
              "      <td>-281</td>\n",
              "      <td>-301</td>\n",
              "      <td>54</td>\n",
              "      <td>-150</td>\n",
              "      <td>-98</td>\n",
              "      <td>-196</td>\n",
              "      <td>-28</td>\n",
              "      <td>-22</td>\n",
              "      <td>2</td>\n",
              "      <td>77</td>\n",
              "      <td>48</td>\n",
              "      <td>-34</td>\n",
              "      <td>46</td>\n",
              "      <td>-91</td>\n",
              "      <td>32</td>\n",
              "      <td>94</td>\n",
              "      <td>-116</td>\n",
              "      <td>84</td>\n",
              "      <td>-23</td>\n",
              "      <td>41</td>\n",
              "      <td>-58</td>\n",
              "      <td>62</td>\n",
              "      <td>-171</td>\n",
              "      <td>...</td>\n",
              "      <td>88</td>\n",
              "      <td>-20</td>\n",
              "      <td>-32</td>\n",
              "      <td>32</td>\n",
              "      <td>-128</td>\n",
              "      <td>-73</td>\n",
              "      <td>-125</td>\n",
              "      <td>-220</td>\n",
              "      <td>-93</td>\n",
              "      <td>53</td>\n",
              "      <td>-78</td>\n",
              "      <td>-19</td>\n",
              "      <td>-34</td>\n",
              "      <td>-26</td>\n",
              "      <td>4</td>\n",
              "      <td>50</td>\n",
              "      <td>17</td>\n",
              "      <td>-177</td>\n",
              "      <td>-101</td>\n",
              "      <td>-121</td>\n",
              "      <td>-65</td>\n",
              "      <td>-77</td>\n",
              "      <td>52</td>\n",
              "      <td>-41</td>\n",
              "      <td>-34</td>\n",
              "      <td>-32</td>\n",
              "      <td>-66</td>\n",
              "      <td>115</td>\n",
              "      <td>-7</td>\n",
              "      <td>-236</td>\n",
              "      <td>-60</td>\n",
              "      <td>-4</td>\n",
              "      <td>52</td>\n",
              "      <td>104</td>\n",
              "      <td>136</td>\n",
              "      <td>168</td>\n",
              "      <td>-60</td>\n",
              "      <td>-135</td>\n",
              "      <td>80</td>\n",
              "      <td>1</td>\n",
              "    </tr>\n",
              "    <tr>\n",
              "      <th>4</th>\n",
              "      <td>5</td>\n",
              "      <td>MUSK-211</td>\n",
              "      <td>211_1+13</td>\n",
              "      <td>41</td>\n",
              "      <td>-188</td>\n",
              "      <td>-145</td>\n",
              "      <td>22</td>\n",
              "      <td>-117</td>\n",
              "      <td>-7</td>\n",
              "      <td>57</td>\n",
              "      <td>-170</td>\n",
              "      <td>-39</td>\n",
              "      <td>-99</td>\n",
              "      <td>-319</td>\n",
              "      <td>-111</td>\n",
              "      <td>-228</td>\n",
              "      <td>-282</td>\n",
              "      <td>-281</td>\n",
              "      <td>-301</td>\n",
              "      <td>54</td>\n",
              "      <td>-150</td>\n",
              "      <td>-98</td>\n",
              "      <td>-196</td>\n",
              "      <td>-28</td>\n",
              "      <td>-22</td>\n",
              "      <td>2</td>\n",
              "      <td>78</td>\n",
              "      <td>48</td>\n",
              "      <td>-34</td>\n",
              "      <td>46</td>\n",
              "      <td>-91</td>\n",
              "      <td>31</td>\n",
              "      <td>94</td>\n",
              "      <td>-116</td>\n",
              "      <td>84</td>\n",
              "      <td>-23</td>\n",
              "      <td>41</td>\n",
              "      <td>-58</td>\n",
              "      <td>62</td>\n",
              "      <td>-171</td>\n",
              "      <td>...</td>\n",
              "      <td>88</td>\n",
              "      <td>-20</td>\n",
              "      <td>-32</td>\n",
              "      <td>32</td>\n",
              "      <td>-128</td>\n",
              "      <td>-73</td>\n",
              "      <td>-125</td>\n",
              "      <td>-220</td>\n",
              "      <td>-93</td>\n",
              "      <td>53</td>\n",
              "      <td>-78</td>\n",
              "      <td>-19</td>\n",
              "      <td>-34</td>\n",
              "      <td>-26</td>\n",
              "      <td>4</td>\n",
              "      <td>50</td>\n",
              "      <td>17</td>\n",
              "      <td>-177</td>\n",
              "      <td>-101</td>\n",
              "      <td>-121</td>\n",
              "      <td>-65</td>\n",
              "      <td>-76</td>\n",
              "      <td>52</td>\n",
              "      <td>-41</td>\n",
              "      <td>-34</td>\n",
              "      <td>-32</td>\n",
              "      <td>-66</td>\n",
              "      <td>115</td>\n",
              "      <td>-8</td>\n",
              "      <td>-236</td>\n",
              "      <td>-60</td>\n",
              "      <td>-4</td>\n",
              "      <td>52</td>\n",
              "      <td>104</td>\n",
              "      <td>137</td>\n",
              "      <td>168</td>\n",
              "      <td>-60</td>\n",
              "      <td>-135</td>\n",
              "      <td>80</td>\n",
              "      <td>1</td>\n",
              "    </tr>\n",
              "  </tbody>\n",
              "</table>\n",
              "<p>5 rows × 170 columns</p>\n",
              "</div>"
            ],
            "text/plain": [
              "   ID molecule_name conformation_name  f1   f2  ...  f163  f164  f165  f166  class\n",
              "0   1      MUSK-211           211_1+1  46 -108  ...   156   -50  -112    96      1\n",
              "1   2      MUSK-211          211_1+10  41 -188  ...   169   -61  -136    79      1\n",
              "2   3      MUSK-211          211_1+11  46 -194  ...   165   -67  -145    39      1\n",
              "3   4      MUSK-211          211_1+12  41 -188  ...   168   -60  -135    80      1\n",
              "4   5      MUSK-211          211_1+13  41 -188  ...   168   -60  -135    80      1\n",
              "\n",
              "[5 rows x 170 columns]"
            ]
          },
          "metadata": {
            "tags": []
          },
          "execution_count": 176
        }
      ]
    },
    {
      "cell_type": "code",
      "metadata": {
        "id": "sIl-bffW9wd8",
        "colab_type": "code",
        "colab": {}
      },
      "source": [
        "df = data"
      ],
      "execution_count": 0,
      "outputs": []
    },
    {
      "cell_type": "markdown",
      "metadata": {
        "id": "_pZLhfOsjEhb",
        "colab_type": "text"
      },
      "source": [
        "Cecking for null values"
      ]
    },
    {
      "cell_type": "code",
      "metadata": {
        "id": "CGCz_1mziPp_",
        "colab_type": "code",
        "colab": {
          "base_uri": "https://localhost:8080/",
          "height": 218
        },
        "outputId": "b4f61743-af7c-42fe-f1e9-5a0f19f34bf1"
      },
      "source": [
        "df.isnull().sum(axis = 1)"
      ],
      "execution_count": 178,
      "outputs": [
        {
          "output_type": "execute_result",
          "data": {
            "text/plain": [
              "0       0\n",
              "1       0\n",
              "2       0\n",
              "3       0\n",
              "4       0\n",
              "       ..\n",
              "6593    0\n",
              "6594    0\n",
              "6595    0\n",
              "6596    0\n",
              "6597    0\n",
              "Length: 6598, dtype: int64"
            ]
          },
          "metadata": {
            "tags": []
          },
          "execution_count": 178
        }
      ]
    },
    {
      "cell_type": "markdown",
      "metadata": {
        "id": "IUraa0619n4g",
        "colab_type": "text"
      },
      "source": [
        "Handle non-numerical data"
      ]
    },
    {
      "cell_type": "code",
      "metadata": {
        "id": "vHV-rWy_9rXr",
        "colab_type": "code",
        "colab": {
          "base_uri": "https://localhost:8080/",
          "height": 403
        },
        "outputId": "dc5ccb6a-4f1a-45cb-e581-fd4d78eb805d"
      },
      "source": [
        "#handle non-numerical data\n",
        "def handle_non_numerical_data(df):\n",
        "    columns = df.columns.values\n",
        "    for column in columns:\n",
        "        text_digit_vals = {}\n",
        "        def convert_to_int(val):\n",
        "            return text_digit_vals[val]\n",
        "\n",
        "        if df[column].dtype != np.int64 and df[column].dtype != np.float64:\n",
        "            column_contents = df[column].values.tolist()\n",
        "            unique_elements = set(column_contents)\n",
        "            x = 0\n",
        "            for unique in unique_elements:\n",
        "                if unique not in text_digit_vals:\n",
        "                    text_digit_vals[unique] = x\n",
        "                    x+=1\n",
        "\n",
        "            df[column] = list(map(convert_to_int, df[column]))\n",
        "\n",
        "    return df\n",
        "\n",
        "df = handle_non_numerical_data(df)\n",
        "print(df.head(20))"
      ],
      "execution_count": 117,
      "outputs": [
        {
          "output_type": "stream",
          "text": [
            "    ID  molecule_name  conformation_name  f1  ...  f164  f165  f166  class\n",
            "0    1             16               5620  46  ...   -50  -112    96      1\n",
            "1    2             16               2823  41  ...   -61  -136    79      1\n",
            "2    3             16               5463  46  ...   -67  -145    39      1\n",
            "3    4             16               5472  41  ...   -60  -135    80      1\n",
            "4    5             16               5921  41  ...   -60  -135    80      1\n",
            "5    6             16               3343  46  ...   -67  -145    40      1\n",
            "6    7             16               4960  47  ...   -68  -145    37      1\n",
            "7    8             16               6220  41  ...   -60  -135    81      1\n",
            "8    9             16               1507  41  ...   -60  -135    81      1\n",
            "9   10             16               3930  47  ...   -68  -146    37      1\n",
            "10  11             16               4164  41  ...   -60  -135    81      1\n",
            "11  12             16               3894  44  ...   -65  -132    14      1\n",
            "12  13             16               3530  44  ...   -64  -131    14      1\n",
            "13  14             16               2956  44  ...   -64  -131    15      1\n",
            "14  15             16               4786  46  ...   -50  -114    96      1\n",
            "15  16             16               2935  44  ...   -65  -132    14      1\n",
            "16  17             16               4736  44  ...   -65  -133    14      1\n",
            "17  18             16               3567  46  ...   -50  -113    97      1\n",
            "18  19             16               3992  46  ...   -50  -113    97      1\n",
            "19  20             11               3407  33  ...   -60  -132    58      1\n",
            "\n",
            "[20 rows x 170 columns]\n"
          ],
          "name": "stdout"
        }
      ]
    },
    {
      "cell_type": "code",
      "metadata": {
        "id": "RRyzckoc90yb",
        "colab_type": "code",
        "colab": {}
      },
      "source": [
        "data= df"
      ],
      "execution_count": 0,
      "outputs": []
    },
    {
      "cell_type": "markdown",
      "metadata": {
        "id": "Vj72zUJ39RCT",
        "colab_type": "text"
      },
      "source": [
        "Accuracy is not a good metric since the dataset is highly imbalanced. Using simple cross-validation and no feature engineering\n"
      ]
    },
    {
      "cell_type": "code",
      "metadata": {
        "id": "hkY8JygD8ux4",
        "colab_type": "code",
        "colab": {}
      },
      "source": [
        "from xgboost import XGBClassifier\n",
        "from sklearn.model_selection import train_test_split\n",
        "from sklearn.metrics import accuracy_score"
      ],
      "execution_count": 0,
      "outputs": []
    },
    {
      "cell_type": "code",
      "metadata": {
        "id": "ucnonv2E85DI",
        "colab_type": "code",
        "colab": {}
      },
      "source": [
        "labels = data.columns[2:]"
      ],
      "execution_count": 0,
      "outputs": []
    },
    {
      "cell_type": "code",
      "metadata": {
        "id": "o87rQVp39Ist",
        "colab_type": "code",
        "colab": {}
      },
      "source": [
        "X = data[labels]\n",
        "y = data['class']\n",
        "X_train, X_test, y_train, y_test = train_test_split(X, y, test_size=0.2, random_state=1)"
      ],
      "execution_count": 0,
      "outputs": []
    },
    {
      "cell_type": "code",
      "metadata": {
        "id": "t9RLuwHqXqPu",
        "colab_type": "code",
        "colab": {
          "base_uri": "https://localhost:8080/",
          "height": 282
        },
        "outputId": "1e12f2c4-b37a-414b-b9a4-3bc691aa11ce"
      },
      "source": [
        "import pandas as pd\n",
        "import numpy as np\n",
        "\n",
        "X = data.iloc[:,0:169]  #independent columns\n",
        "y = data.iloc[:,-1]    #target column i.e price range\n",
        "from sklearn.ensemble import ExtraTreesClassifier\n",
        "import matplotlib.pyplot as plt\n",
        "model = ExtraTreesClassifier()\n",
        "model.fit(X,y)\n",
        "#print(model.feature_importances_) #use inbuilt class feature_importances of tree based classifiers\n",
        "#plot graph of feature importances for better visualization\n",
        "feat_importances = pd.Series(model.feature_importances_, index=X.columns)\n",
        "feat_importances.nlargest().plot(kind='barh')\n",
        "\n",
        "plt.figure(figsize= (200,100))\n",
        "plt.show()"
      ],
      "execution_count": 122,
      "outputs": [
        {
          "output_type": "display_data",
          "data": {
            "image/png": "[encoded data removed]",
            "text/plain": [
              "<Figure size 432x288 with 1 Axes>"
            ]
          },
          "metadata": {
            "tags": []
          }
        },
        {
          "output_type": "display_data",
          "data": {
            "text/plain": [
              "<Figure size 14400x7200 with 0 Axes>"
            ]
          },
          "metadata": {
            "tags": []
          }
        }
      ]
    },
    {
      "cell_type": "markdown",
      "metadata": {
        "id": "iW352qR2YNr0",
        "colab_type": "text"
      },
      "source": [
        "The number of features for each class"
      ]
    },
    {
      "cell_type": "code",
      "metadata": {
        "id": "1CLixiuyYJN_",
        "colab_type": "code",
        "colab": {
          "base_uri": "https://localhost:8080/",
          "height": 316
        },
        "outputId": "0d12c995-4d0d-45be-847a-c1518dceddbf"
      },
      "source": [
        "#plot the dataset frequency\n",
        "labels = ['non-musk', 'musk']\n",
        "classes = pd.value_counts(data['class'],sort = True)\n",
        "classes.plot(kind = 'bar', rot = 0)\n",
        "plt.title(\"class distribution \")\n",
        "plt.xticks(range(2), labels )\n",
        "plt.xlabel(\"Class\")\n",
        "plt.ylabel(\"Frequency\")"
      ],
      "execution_count": 180,
      "outputs": [
        {
          "output_type": "execute_result",
          "data": {
            "text/plain": [
              "Text(0, 0.5, 'Frequency')"
            ]
          },
          "metadata": {
            "tags": []
          },
          "execution_count": 180
        },
        {
          "output_type": "display_data",
          "data": {
            "image/png": "[encoded data removed]",
            "text/plain": [
              "<Figure size 432x288 with 1 Axes>"
            ]
          },
          "metadata": {
            "tags": []
          }
        }
      ]
    },
    {
      "cell_type": "code",
      "metadata": {
        "id": "XBQ-oFnZ9O4U",
        "colab_type": "code",
        "colab": {
          "base_uri": "https://localhost:8080/",
          "height": 34
        },
        "outputId": "913bed8d-1311-4643-a6a9-ba1dbff1dcef"
      },
      "source": [
        "model = XGBClassifier()\n",
        "model.fit(X_train, y_train)\n",
        "y_pred = model.predict(X_test)\n",
        "\n",
        "accuracy = accuracy_score(y_test, y_pred)\n",
        "print(\"Accuracy: %.2f%%\" % (accuracy * 100.0))"
      ],
      "execution_count": 124,
      "outputs": [
        {
          "output_type": "stream",
          "text": [
            "Accuracy: 100.00%\n"
          ],
          "name": "stdout"
        }
      ]
    },
    {
      "cell_type": "markdown",
      "metadata": {
        "id": "_5-6EF6c9-Uc",
        "colab_type": "text"
      },
      "source": [
        "Accuracy using only one feature"
      ]
    },
    {
      "cell_type": "code",
      "metadata": {
        "id": "sby3hZ-O95tc",
        "colab_type": "code",
        "colab": {
          "base_uri": "https://localhost:8080/",
          "height": 34
        },
        "outputId": "85e3b86f-fb21-45e3-ca37-7d498b162bef"
      },
      "source": [
        "model = XGBClassifier()\n",
        "model.fit(X_train[['f71']], y_train)\n",
        "y_pred = model.predict(X_test[['f71']])\n",
        "\n",
        "accuracy = accuracy_score(y_test, y_pred)\n",
        "print(\"Accuracy: %.2f%%\" % (accuracy * 100.0))"
      ],
      "execution_count": 125,
      "outputs": [
        {
          "output_type": "stream",
          "text": [
            "Accuracy: 87.50%\n"
          ],
          "name": "stdout"
        }
      ]
    },
    {
      "cell_type": "code",
      "metadata": {
        "id": "mPtynuQF9fy3",
        "colab_type": "code",
        "colab": {
          "base_uri": "https://localhost:8080/",
          "height": 333
        },
        "outputId": "d8475bde-40cf-47ce-9fb1-e1828f9402d6"
      },
      "source": [
        "from sklearn.metrics import confusion_matrix\n",
        "from matplotlib import pyplot as plt\n",
        "\n",
        "conf_mat = confusion_matrix(y_true=y_test, y_pred=y_pred)\n",
        "print('Confusion matrix:\\n', conf_mat)\n",
        "\n",
        "labels = ['Class 0', 'Class 1']\n",
        "fig = plt.figure()\n",
        "ax = fig.add_subplot(111)\n",
        "cax = ax.matshow(conf_mat, cmap=plt.cm.Blues)\n",
        "fig.colorbar(cax)\n",
        "ax.set_xticklabels([''] + labels)\n",
        "ax.set_yticklabels([''] + labels)\n",
        "plt.xlabel('Predicted')\n",
        "plt.ylabel('Expected')\n",
        "plt.show()"
      ],
      "execution_count": 126,
      "outputs": [
        {
          "output_type": "stream",
          "text": [
            "Confusion matrix:\n",
            " [[1103   38]\n",
            " [ 127   52]]\n"
          ],
          "name": "stdout"
        },
        {
          "output_type": "display_data",
          "data": {
            "image/png": "[encoded data removed]",
            "text/plain": [
              "<Figure size 432x288 with 2 Axes>"
            ]
          },
          "metadata": {
            "tags": []
          }
        }
      ]
    },
    {
      "cell_type": "markdown",
      "metadata": {
        "id": "aOjQM1-k_K24",
        "colab_type": "text"
      },
      "source": [
        "Resampling\n",
        "\n"
      ]
    },
    {
      "cell_type": "code",
      "metadata": {
        "id": "GyK7c0pw-3cv",
        "colab_type": "code",
        "colab": {}
      },
      "source": [
        "# Class count\n",
        "count_class_0, count_class_1 = data['class'].value_counts()\n",
        "\n",
        "# Divide by class\n",
        "df_class_0 = data[data['class'] == 0]\n",
        "df_class_1 = data[data['class'] == 1]"
      ],
      "execution_count": 0,
      "outputs": []
    },
    {
      "cell_type": "markdown",
      "metadata": {
        "id": "fwMFJblH_kYP",
        "colab_type": "text"
      },
      "source": [
        "Over-sampling\n"
      ]
    },
    {
      "cell_type": "code",
      "metadata": {
        "id": "ugssKmSe_SQg",
        "colab_type": "code",
        "colab": {
          "base_uri": "https://localhost:8080/",
          "height": 346
        },
        "outputId": "803744ac-945d-4224-90e7-a9644708bb45"
      },
      "source": [
        "df_class_1_over = df_class_1.sample(count_class_0, replace=True)\n",
        "df_test_over = pd.concat([df_class_0, df_class_1_over], axis=0)\n",
        "\n",
        "print('Random over-sampling:')\n",
        "print(df_test_over['class'].value_counts())\n",
        "\n",
        "df_test_over['class'].value_counts().plot(kind='bar', title='Count (class)');"
      ],
      "execution_count": 128,
      "outputs": [
        {
          "output_type": "stream",
          "text": [
            "Random over-sampling:\n",
            "1    5581\n",
            "0    5581\n",
            "Name: class, dtype: int64\n"
          ],
          "name": "stdout"
        },
        {
          "output_type": "display_data",
          "data": {
            "image/png": "[encoded data removed]",
            "text/plain": [
              "<Figure size 432x288 with 1 Axes>"
            ]
          },
          "metadata": {
            "tags": []
          }
        }
      ]
    },
    {
      "cell_type": "code",
      "metadata": {
        "id": "6wQx-XD7AOmn",
        "colab_type": "code",
        "colab": {
          "base_uri": "https://localhost:8080/",
          "height": 34
        },
        "outputId": "18ad85bf-3456-4da4-b2c5-6699daadde5d"
      },
      "source": [
        "df_test_over.shape"
      ],
      "execution_count": 129,
      "outputs": [
        {
          "output_type": "execute_result",
          "data": {
            "text/plain": [
              "(11162, 170)"
            ]
          },
          "metadata": {
            "tags": []
          },
          "execution_count": 129
        }
      ]
    },
    {
      "cell_type": "code",
      "metadata": {
        "id": "TvCd8Y7F_rL4",
        "colab_type": "code",
        "colab": {}
      },
      "source": [
        "# main libraries\n",
        "import pandas as pd\n",
        "import numpy as np\n",
        "import time\n",
        "# visual libraries\n",
        "from matplotlib import pyplot as plt\n",
        "import seaborn as sns\n",
        "from mpl_toolkits.mplot3d import Axes3D \n",
        "plt.style.use('ggplot')\n",
        "# sklearn libraries\n",
        "from sklearn.neighbors import KNeighborsClassifier\n",
        "from sklearn.model_selection import train_test_split\n",
        "from sklearn.preprocessing import normalize\n",
        "from sklearn.metrics import confusion_matrix,accuracy_score,precision_score,recall_score,f1_score,matthews_corrcoef,classification_report,roc_curve\n",
        "from sklearn.externals import joblib\n",
        "from sklearn.preprocessing import StandardScaler\n",
        "from sklearn.decomposition import PCA\n",
        "from sklearn.ensemble import ExtraTreesClassifier\n",
        "#Kearas libraries \n",
        "from keras import Sequential\n",
        "from keras.layers import Dense, Dropout\n",
        "from keras.optimizers import SGD\n",
        "from keras.utils import plot_model\n"
      ],
      "execution_count": 0,
      "outputs": []
    },
    {
      "cell_type": "code",
      "metadata": {
        "id": "9TmAz7FuADQA",
        "colab_type": "code",
        "colab": {}
      },
      "source": [
        "features = df_test_over.drop(['class'], axis = 1)\n",
        "labels = pd.DataFrame(df_test_over['class'])\n",
        "\n",
        "feature_array = features.values\n",
        "label_array = labels.values"
      ],
      "execution_count": 0,
      "outputs": []
    },
    {
      "cell_type": "code",
      "metadata": {
        "id": "0E6QJnMJApvK",
        "colab_type": "code",
        "colab": {
          "base_uri": "https://localhost:8080/",
          "height": 235
        },
        "outputId": "e2239dc7-4204-4414-cd8b-6d743c54be0b"
      },
      "source": [
        "sc = StandardScaler()\n",
        "feature_array = sc.fit_transform(feature_array)\n",
        "feature_array"
      ],
      "execution_count": 132,
      "outputs": [
        {
          "output_type": "execute_result",
          "data": {
            "text/plain": [
              "array([[-0.56719658, -0.67390935, -0.57373177, ..., -0.14961856,\n",
              "         0.46437696,  0.14756176],\n",
              "       [-0.56670004, -0.67390935, -1.11808975, ..., -0.14961856,\n",
              "         0.46437696,  0.14756176],\n",
              "       [-0.5662035 , -0.67390935,  1.4921988 , ..., -0.19407833,\n",
              "         0.41681287, -0.00573263],\n",
              "       ...,\n",
              "       [-0.56818966,  1.51740255,  0.64910137, ..., -0.17184844,\n",
              "         0.30583   ,  0.12201269],\n",
              "       [-0.61486458, -0.19580493,  0.42294299, ..., -0.37191741,\n",
              "        -1.77113512, -0.97659709],\n",
              "       [-0.66203604, -1.430908  , -0.3044455 , ..., -0.19407833,\n",
              "         0.28997531,  0.09646363]])"
            ]
          },
          "metadata": {
            "tags": []
          },
          "execution_count": 132
        }
      ]
    },
    {
      "cell_type": "code",
      "metadata": {
        "id": "aewv9r-fAuDx",
        "colab_type": "code",
        "colab": {}
      },
      "source": [
        "#Splitting dataset 80:20 ratio \n",
        "X_train,X_test,Y_train,Y_test = train_test_split(feature_array,label_array,test_size=0.20)"
      ],
      "execution_count": 0,
      "outputs": []
    },
    {
      "cell_type": "code",
      "metadata": {
        "id": "bqrOmlM1A2wZ",
        "colab_type": "code",
        "colab": {}
      },
      "source": [
        "# Normalize the testing and training set\n",
        "X_train = normalize(X_train)\n",
        "X_test = normalize(X_test)"
      ],
      "execution_count": 0,
      "outputs": []
    },
    {
      "cell_type": "code",
      "metadata": {
        "id": "omFEMoJvA4Ey",
        "colab_type": "code",
        "colab": {
          "base_uri": "https://localhost:8080/",
          "height": 34
        },
        "outputId": "54de944e-9e0e-4540-f633-30d07f501f54"
      },
      "source": [
        "X_train.shape"
      ],
      "execution_count": 135,
      "outputs": [
        {
          "output_type": "execute_result",
          "data": {
            "text/plain": [
              "(8929, 169)"
            ]
          },
          "metadata": {
            "tags": []
          },
          "execution_count": 135
        }
      ]
    },
    {
      "cell_type": "code",
      "metadata": {
        "id": "wUH7GUN1A5jU",
        "colab_type": "code",
        "colab": {}
      },
      "source": [
        "my_model= Sequential()\n",
        "\n",
        "#First layer \n",
        "\n",
        "my_model.add(Dense(25,activation= 'relu', kernel_initializer= 'random_normal', input_shape = (169,)))\n",
        "\n",
        "my_model.add(Dropout(0.5))\n",
        "#Second layer \n",
        "my_model.add(Dense(25, activation='relu', kernel_initializer= 'random_normal'))\n",
        "my_model.add(Dropout(0.5))\n",
        "\n",
        "#output\n",
        "my_model.add(Dense(1, activation='sigmoid', kernel_initializer= 'random_normal'))\n"
      ],
      "execution_count": 0,
      "outputs": []
    },
    {
      "cell_type": "code",
      "metadata": {
        "id": "8-nOikd6aZXw",
        "colab_type": "code",
        "colab": {
          "base_uri": "https://localhost:8080/",
          "height": 644
        },
        "outputId": "23d95c38-7713-4461-e55f-dfed6242f9ce"
      },
      "source": [
        "#Plot the model\n",
        "plot_model(my_model, show_shapes= True, expand_nested= True, to_file= 'model.png')\n"
      ],
      "execution_count": 151,
      "outputs": [
        {
          "output_type": "execute_result",
          "data": {
            "image/png": "[encoded data removed]",
            "text/plain": [
              "<IPython.core.display.Image object>"
            ]
          },
          "metadata": {
            "tags": []
          },
          "execution_count": 151
        }
      ]
    },
    {
      "cell_type": "code",
      "metadata": {
        "id": "fZv9t5UWBBaI",
        "colab_type": "code",
        "colab": {}
      },
      "source": [
        "sgd = SGD(lr = 0.01, momentum= 0.9)"
      ],
      "execution_count": 0,
      "outputs": []
    },
    {
      "cell_type": "markdown",
      "metadata": {
        "id": "zI3NlaaOQTYE",
        "colab_type": "text"
      },
      "source": [
        "Precision recall f1\n"
      ]
    },
    {
      "cell_type": "code",
      "metadata": {
        "id": "bTmS_ySxCeT5",
        "colab_type": "code",
        "colab": {}
      },
      "source": [
        "from keras import backend as K\n",
        "def recall_m(y_true, y_pred):\n",
        "        true_positives = K.sum(K.round(K.clip(y_true * y_pred, 0, 1)))\n",
        "        possible_positives = K.sum(K.round(K.clip(y_true, 0, 1)))\n",
        "        recall = true_positives / (possible_positives + K.epsilon())\n",
        "        return recall\n",
        "\n",
        "def precision_m(y_true, y_pred):\n",
        "        true_positives = K.sum(K.round(K.clip(y_true * y_pred, 0, 1)))\n",
        "        predicted_positives = K.sum(K.round(K.clip(y_pred, 0, 1)))\n",
        "        precision = true_positives / (predicted_positives + K.epsilon())\n",
        "        return precision\n",
        "\n",
        "def f1_m(y_true, y_pred):\n",
        "    precision = precision_m(y_true, y_pred)\n",
        "    recall = recall_m(y_true, y_pred)\n",
        "    return 2*((precision*recall)/(precision+recall+K.epsilon()))"
      ],
      "execution_count": 0,
      "outputs": []
    },
    {
      "cell_type": "code",
      "metadata": {
        "id": "VGqzuBFjDqqP",
        "colab_type": "code",
        "colab": {}
      },
      "source": [
        "\n",
        "my_model.compile(optimizer='adam', loss='binary_crossentropy', metrics=['acc',f1_m,precision_m, recall_m])"
      ],
      "execution_count": 0,
      "outputs": []
    },
    {
      "cell_type": "code",
      "metadata": {
        "id": "J9bOLqEeDfbT",
        "colab_type": "code",
        "colab": {
          "base_uri": "https://localhost:8080/",
          "height": 50
        },
        "outputId": "4f2fc094-c416-493b-cf26-62cfdb5cd573"
      },
      "source": [
        ""
      ],
      "execution_count": 140,
      "outputs": [
        {
          "output_type": "stream",
          "text": [
            "[[1143    5]\n",
            " [1072   13]]\n"
          ],
          "name": "stdout"
        }
      ]
    },
    {
      "cell_type": "code",
      "metadata": {
        "id": "9GyyG4eSD2c2",
        "colab_type": "code",
        "colab": {
          "base_uri": "https://localhost:8080/",
          "height": 726
        },
        "outputId": "a89187c3-8d09-4391-d064-30107e29a468"
      },
      "source": [
        "# fit the model\n",
        "history = my_model.fit(X_train,Y_train, validation_split= 0.20, batch_size = 32, epochs = 20)\n"
      ],
      "execution_count": 141,
      "outputs": [
        {
          "output_type": "stream",
          "text": [
            "Train on 7143 samples, validate on 1786 samples\n",
            "Epoch 1/20\n",
            "7143/7143 [==============================] - 1s 132us/step - loss: 0.5455 - acc: 0.7444 - f1_m: 0.7450 - precision_m: 0.7575 - recall_m: 0.7609 - val_loss: 0.2912 - val_acc: 0.8796 - val_f1_m: 0.8791 - val_precision_m: 0.8414 - val_recall_m: 0.9262\n",
            "Epoch 2/20\n",
            "7143/7143 [==============================] - 0s 56us/step - loss: 0.2472 - acc: 0.9075 - f1_m: 0.9071 - precision_m: 0.9071 - recall_m: 0.9120 - val_loss: 0.1691 - val_acc: 0.9367 - val_f1_m: 0.9338 - val_precision_m: 0.9285 - val_recall_m: 0.9425\n",
            "Epoch 3/20\n",
            "7143/7143 [==============================] - 0s 56us/step - loss: 0.1636 - acc: 0.9475 - f1_m: 0.9476 - precision_m: 0.9390 - recall_m: 0.9594 - val_loss: 0.1027 - val_acc: 0.9642 - val_f1_m: 0.9623 - val_precision_m: 0.9564 - val_recall_m: 0.9710\n",
            "Epoch 4/20\n",
            "7143/7143 [==============================] - 0s 56us/step - loss: 0.1063 - acc: 0.9678 - f1_m: 0.9677 - precision_m: 0.9586 - recall_m: 0.9792 - val_loss: 0.0644 - val_acc: 0.9759 - val_f1_m: 0.9759 - val_precision_m: 0.9617 - val_recall_m: 0.9919\n",
            "Epoch 5/20\n",
            "7143/7143 [==============================] - 0s 58us/step - loss: 0.0714 - acc: 0.9814 - f1_m: 0.9797 - precision_m: 0.9731 - recall_m: 0.9875 - val_loss: 0.0361 - val_acc: 0.9888 - val_f1_m: 0.9885 - val_precision_m: 0.9800 - val_recall_m: 0.9979\n",
            "Epoch 6/20\n",
            "7143/7143 [==============================] - 0s 56us/step - loss: 0.0514 - acc: 0.9885 - f1_m: 0.9887 - precision_m: 0.9819 - recall_m: 0.9963 - val_loss: 0.0253 - val_acc: 0.9944 - val_f1_m: 0.9941 - val_precision_m: 0.9886 - val_recall_m: 1.0000\n",
            "Epoch 7/20\n",
            "7143/7143 [==============================] - 0s 57us/step - loss: 0.0401 - acc: 0.9912 - f1_m: 0.9907 - precision_m: 0.9850 - recall_m: 0.9970 - val_loss: 0.0167 - val_acc: 0.9950 - val_f1_m: 0.9946 - val_precision_m: 0.9896 - val_recall_m: 1.0000\n",
            "Epoch 8/20\n",
            "7143/7143 [==============================] - 0s 56us/step - loss: 0.0282 - acc: 0.9937 - f1_m: 0.9941 - precision_m: 0.9904 - recall_m: 0.9983 - val_loss: 0.0135 - val_acc: 0.9950 - val_f1_m: 0.9946 - val_precision_m: 0.9896 - val_recall_m: 1.0000\n",
            "Epoch 9/20\n",
            "7143/7143 [==============================] - 0s 56us/step - loss: 0.0249 - acc: 0.9947 - f1_m: 0.9949 - precision_m: 0.9923 - recall_m: 0.9979 - val_loss: 0.0089 - val_acc: 0.9983 - val_f1_m: 0.9981 - val_precision_m: 0.9964 - val_recall_m: 1.0000\n",
            "Epoch 10/20\n",
            "7143/7143 [==============================] - 0s 58us/step - loss: 0.0187 - acc: 0.9957 - f1_m: 0.9957 - precision_m: 0.9933 - recall_m: 0.9984 - val_loss: 0.0070 - val_acc: 0.9989 - val_f1_m: 0.9988 - val_precision_m: 0.9978 - val_recall_m: 1.0000\n",
            "Epoch 11/20\n",
            "7143/7143 [==============================] - 0s 59us/step - loss: 0.0173 - acc: 0.9955 - f1_m: 0.9957 - precision_m: 0.9929 - recall_m: 0.9987 - val_loss: 0.0054 - val_acc: 0.9989 - val_f1_m: 0.9988 - val_precision_m: 0.9978 - val_recall_m: 1.0000\n",
            "Epoch 12/20\n",
            "7143/7143 [==============================] - 0s 58us/step - loss: 0.0152 - acc: 0.9973 - f1_m: 0.9973 - precision_m: 0.9957 - recall_m: 0.9992 - val_loss: 0.0047 - val_acc: 0.9983 - val_f1_m: 0.9980 - val_precision_m: 0.9961 - val_recall_m: 1.0000\n",
            "Epoch 13/20\n",
            "7143/7143 [==============================] - 0s 57us/step - loss: 0.0118 - acc: 0.9979 - f1_m: 0.9978 - precision_m: 0.9960 - recall_m: 0.9998 - val_loss: 0.0031 - val_acc: 0.9994 - val_f1_m: 0.9994 - val_precision_m: 0.9988 - val_recall_m: 1.0000\n",
            "Epoch 14/20\n",
            "7143/7143 [==============================] - 0s 59us/step - loss: 0.0099 - acc: 0.9976 - f1_m: 0.9975 - precision_m: 0.9960 - recall_m: 0.9992 - val_loss: 0.0021 - val_acc: 0.9994 - val_f1_m: 0.9994 - val_precision_m: 0.9988 - val_recall_m: 1.0000\n",
            "Epoch 15/20\n",
            "7143/7143 [==============================] - 0s 54us/step - loss: 0.0074 - acc: 0.9989 - f1_m: 0.9988 - precision_m: 0.9978 - recall_m: 1.0000 - val_loss: 0.0028 - val_acc: 0.9994 - val_f1_m: 0.9994 - val_precision_m: 0.9988 - val_recall_m: 1.0000\n",
            "Epoch 16/20\n",
            "7143/7143 [==============================] - 0s 56us/step - loss: 0.0085 - acc: 0.9980 - f1_m: 0.9980 - precision_m: 0.9967 - recall_m: 0.9995 - val_loss: 0.0017 - val_acc: 0.9994 - val_f1_m: 0.9994 - val_precision_m: 0.9988 - val_recall_m: 1.0000\n",
            "Epoch 17/20\n",
            "7143/7143 [==============================] - 0s 56us/step - loss: 0.0084 - acc: 0.9982 - f1_m: 0.9983 - precision_m: 0.9975 - recall_m: 0.9992 - val_loss: 0.0016 - val_acc: 0.9994 - val_f1_m: 0.9994 - val_precision_m: 0.9988 - val_recall_m: 1.0000\n",
            "Epoch 18/20\n",
            "7143/7143 [==============================] - 0s 56us/step - loss: 0.0057 - acc: 0.9992 - f1_m: 0.9992 - precision_m: 0.9987 - recall_m: 0.9998 - val_loss: 0.0012 - val_acc: 0.9994 - val_f1_m: 0.9994 - val_precision_m: 0.9988 - val_recall_m: 1.0000\n",
            "Epoch 19/20\n",
            "7143/7143 [==============================] - 0s 57us/step - loss: 0.0055 - acc: 0.9983 - f1_m: 0.9981 - precision_m: 0.9970 - recall_m: 0.9994 - val_loss: 8.3204e-04 - val_acc: 1.0000 - val_f1_m: 1.0000 - val_precision_m: 1.0000 - val_recall_m: 1.0000\n",
            "Epoch 20/20\n",
            "7143/7143 [==============================] - 0s 56us/step - loss: 0.0047 - acc: 0.9992 - f1_m: 0.9991 - precision_m: 0.9989 - recall_m: 0.9993 - val_loss: 0.0011 - val_acc: 0.9994 - val_f1_m: 0.9994 - val_precision_m: 0.9988 - val_recall_m: 1.0000\n"
          ],
          "name": "stdout"
        }
      ]
    },
    {
      "cell_type": "code",
      "metadata": {
        "id": "rVYL8j-EdTVR",
        "colab_type": "code",
        "colab": {
          "base_uri": "https://localhost:8080/",
          "height": 34
        },
        "outputId": "30cf151f-4895-40c7-acf1-fb56f8eead9b"
      },
      "source": [
        "print(history.history.keys())"
      ],
      "execution_count": 154,
      "outputs": [
        {
          "output_type": "stream",
          "text": [
            "dict_keys(['val_loss', 'val_acc', 'val_f1_m', 'val_precision_m', 'val_recall_m', 'loss', 'acc', 'f1_m', 'precision_m', 'recall_m'])\n"
          ],
          "name": "stdout"
        }
      ]
    },
    {
      "cell_type": "code",
      "metadata": {
        "id": "5-hY7LAteN4y",
        "colab_type": "code",
        "colab": {}
      },
      "source": [
        "val_accuracy = history.history['val_acc']"
      ],
      "execution_count": 0,
      "outputs": []
    },
    {
      "cell_type": "code",
      "metadata": {
        "id": "Jdq_IHZnede6",
        "colab_type": "code",
        "colab": {
          "base_uri": "https://localhost:8080/",
          "height": 34
        },
        "outputId": "7346dc17-23af-4c5e-8e8a-9ad5b2364161"
      },
      "source": [
        "#print(val_accuracy)\n",
        "val_mean_acc = np.mean(val_accuracy)\n",
        "print(val_mean_acc)"
      ],
      "execution_count": 164,
      "outputs": [
        {
          "output_type": "stream",
          "text": [
            "0.9860022396182959\n"
          ],
          "name": "stdout"
        }
      ]
    },
    {
      "cell_type": "code",
      "metadata": {
        "id": "SrVumnAGEAiy",
        "colab_type": "code",
        "colab": {}
      },
      "source": [
        "loss, accuracy, f1_score, precision, recall = my_model.evaluate(X_train,Y_train, verbose=0)"
      ],
      "execution_count": 0,
      "outputs": []
    },
    {
      "cell_type": "code",
      "metadata": {
        "id": "8ycuS54JELvq",
        "colab_type": "code",
        "colab": {
          "base_uri": "https://localhost:8080/",
          "height": 34
        },
        "outputId": "cde38760-69ca-4a65-d8bb-d8ac769e4c5f"
      },
      "source": [
        "print(loss, accuracy, f1_score, precision, recall)\n"
      ],
      "execution_count": 143,
      "outputs": [
        {
          "output_type": "stream",
          "text": [
            "0.0006126003787575629 0.999888005375742 0.9998843923089271 0.9997760107381332 0.9999999999866492\n"
          ],
          "name": "stdout"
        }
      ]
    },
    {
      "cell_type": "code",
      "metadata": {
        "id": "Ui_Eu_WDQM7u",
        "colab_type": "code",
        "colab": {
          "base_uri": "https://localhost:8080/",
          "height": 299
        },
        "outputId": "5edc7a37-09ac-42c0-ba83-0342903d895e"
      },
      "source": [
        "#Plot model accuracy\n",
        "plt.plot(history.history['acc'])\n",
        "plt.plot(history.history['val_acc'])\n",
        "plt.title('Model Accuracy')\n",
        "plt.ylabel('Accuracy')\n",
        "plt.xlabel('Epoch')\n",
        "plt.legend(['Train','Test'], loc = 'upper left')\n",
        "plt.show()"
      ],
      "execution_count": 144,
      "outputs": [
        {
          "output_type": "display_data",
          "data": {
            "image/png": "[encoded data removed]",
            "text/plain": [
              "<Figure size 432x288 with 1 Axes>"
            ]
          },
          "metadata": {
            "tags": []
          }
        }
      ]
    },
    {
      "cell_type": "code",
      "metadata": {
        "id": "qywBbohjRhk5",
        "colab_type": "code",
        "colab": {
          "base_uri": "https://localhost:8080/",
          "height": 299
        },
        "outputId": "88ea5730-4840-4af8-af50-1a68d2670ead"
      },
      "source": [
        "#plot model History\n",
        "plt.plot(history.history['loss'])\n",
        "plt.plot(history.history['val_loss'])\n",
        "plt.title('Model Loss')\n",
        "plt.ylabel('Loss')\n",
        "plt.xlabel('Epoch')\n",
        "plt.legend(['Train','Test'], loc = 'upper left')\n",
        "plt.show()"
      ],
      "execution_count": 145,
      "outputs": [
        {
          "output_type": "display_data",
          "data": {
            "image/png": "[encoded data removed]",
            "text/plain": [
              "<Figure size 432x288 with 1 Axes>"
            ]
          },
          "metadata": {
            "tags": []
          }
        }
      ]
    },
    {
      "cell_type": "code",
      "metadata": {
        "id": "cW0k51qlZzvI",
        "colab_type": "code",
        "colab": {
          "base_uri": "https://localhost:8080/",
          "height": 50
        },
        "outputId": "d69decec-706b-4592-93b3-d9d933930f02"
      },
      "source": [
        "y_pred = my_model.predict(X_test)\n",
        "y_pred =(y_pred>0.5)\n",
        "list(y_pred)\n",
        "\n",
        "cm = confusion_matrix(Y_test, y_pred)\n",
        "print(cm)"
      ],
      "execution_count": 148,
      "outputs": [
        {
          "output_type": "stream",
          "text": [
            "[[1148    0]\n",
            " [   0 1085]]\n"
          ],
          "name": "stdout"
        }
      ]
    },
    {
      "cell_type": "code",
      "metadata": {
        "id": "tzln6tOuRox7",
        "colab_type": "code",
        "colab": {
          "base_uri": "https://localhost:8080/",
          "height": 118
        },
        "outputId": "bbdf60d3-2852-467b-a829-5b26402d0ca3"
      },
      "source": [
        "print(\"Accuracy\", accuracy *100)\n",
        "print(\"Loss\", loss*100)\n",
        "print(\"F1- score\", f1_score)\n",
        "print(\"Recall\", recall)\n",
        "print(\"Precision\", precision)\n",
        "print(\"Validation accuracy\", val_mean_acc)"
      ],
      "execution_count": 165,
      "outputs": [
        {
          "output_type": "stream",
          "text": [
            "Accuracy 99.98880053757419\n",
            "Loss 0.06126003787575629\n",
            "F1- score 0.9998843923089271\n",
            "Recall 0.9999999999866492\n",
            "Precision 0.9997760107381332\n",
            "Validation accuracy 0.9860022396182959\n"
          ],
          "name": "stdout"
        }
      ]
    },
    {
      "cell_type": "code",
      "metadata": {
        "id": "3ENzvrC7R-Fw",
        "colab_type": "code",
        "colab": {}
      },
      "source": [
        "my_model.save(\"my_model.h5\")"
      ],
      "execution_count": 0,
      "outputs": []
    },
    {
      "cell_type": "code",
      "metadata": {
        "id": "txWpTORbYZmb",
        "colab_type": "code",
        "colab": {}
      },
      "source": [
        ""
      ],
      "execution_count": 0,
      "outputs": []
    }
  ]
}