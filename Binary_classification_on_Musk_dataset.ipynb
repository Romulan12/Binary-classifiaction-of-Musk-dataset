{
  "nbformat": 4,
  "nbformat_minor": 0,
  "metadata": {
    "colab": {
      "name": "Binary classification on Musk dataset.ipynb",
      "provenance": [],
      "mount_file_id": "1Ge5XuylbNA-xs-z178Y-fEWJ4uaZ65n1",
      "authorship_tag": "ABX9TyMiOOZUPlh5rTIKVr65dBE3",
      "include_colab_link": true
    },
    "kernelspec": {
      "name": "python3",
      "display_name": "Python 3"
    },
    "accelerator": "GPU"
  },
  "cells": [
    {
      "cell_type": "markdown",
      "metadata": {
        "id": "view-in-github",
        "colab_type": "text"
      },
      "source": [
        "<a href=\"https://colab.research.google.com/github/Romulan12/Binary-classifiaction-of-Musk-dataset/blob/master/Binary_classification_on_Musk_dataset.ipynb\" target=\"_parent\"><img src=\"https://colab.research.google.com/assets/colab-badge.svg\" alt=\"Open In Colab\"/></a>"
      ]
    },
    {
      "cell_type": "markdown",
      "metadata": {
        "id": "HcXaBz_QyfpB",
        "colab_type": "text"
      },
      "source": [
        "Importing necessary libraries"
      ]
    },
    {
      "cell_type": "code",
      "metadata": {
        "id": "ftmwHUg0yUu3",
        "colab_type": "code",
        "colab": {}
      },
      "source": [
        "import numpy as np\n",
        "import tensorflow as tf\n",
        "import seaborn as sns\n",
        "import pandas as pd\n",
        "from sklearn.ensemble import ExtraTreesClassifier\n",
        "import matplotlib.pyplot as plt\n",
        "\n",
        "\n",
        "from sklearn.preprocessing import StandardScaler\n",
        "from sklearn.preprocessing import normalize\n",
        "from sklearn.metrics import confusion_matrix\n",
        "\n",
        "from sklearn.model_selection import train_test_split\n",
        "from keras import Sequential\n",
        "from keras.layers import Dense, Dropout\n",
        "from keras.optimizers import SGD\n",
        "from keras.utils import plot_model\n",
        "from keras import backend as K\n"
      ],
      "execution_count": 0,
      "outputs": []
    },
    {
      "cell_type": "markdown",
      "metadata": {
        "id": "PccpQ221yVlI",
        "colab_type": "text"
      },
      "source": [
        "Reading data\n"
      ]
    },
    {
      "cell_type": "code",
      "metadata": {
        "id": "6swTM2NoyKWy",
        "colab_type": "code",
        "colab": {}
      },
      "source": [
        "import pandas as pd\n",
        "data = pd.read_csv('/content/drive/My Drive/musk_csv.csv')"
      ],
      "execution_count": 0,
      "outputs": []
    },
    {
      "cell_type": "code",
      "metadata": {
        "id": "KiT7-Knoyjp1",
        "colab_type": "code",
        "colab": {
          "base_uri": "https://localhost:8080/",
          "height": 244
        },
        "outputId": "21c1b3a8-ce83-4d89-b5ea-b78ee81ccd66"
      },
      "source": [
        "data.head()"
      ],
      "execution_count": 3,
      "outputs": [
        {
          "output_type": "execute_result",
          "data": {
            "text/html": [
              "<div>\n",
              "<style scoped>\n",
              "    .dataframe tbody tr th:only-of-type {\n",
              "        vertical-align: middle;\n",
              "    }\n",
              "\n",
              "    .dataframe tbody tr th {\n",
              "        vertical-align: top;\n",
              "    }\n",
              "\n",
              "    .dataframe thead th {\n",
              "        text-align: right;\n",
              "    }\n",
              "</style>\n",
              "<table border=\"1\" class=\"dataframe\">\n",
              "  <thead>\n",
              "    <tr style=\"text-align: right;\">\n",
              "      <th></th>\n",
              "      <th>ID</th>\n",
              "      <th>molecule_name</th>\n",
              "      <th>conformation_name</th>\n",
              "      <th>f1</th>\n",
              "      <th>f2</th>\n",
              "      <th>f3</th>\n",
              "      <th>f4</th>\n",
              "      <th>f5</th>\n",
              "      <th>f6</th>\n",
              "      <th>f7</th>\n",
              "      <th>f8</th>\n",
              "      <th>f9</th>\n",
              "      <th>f10</th>\n",
              "      <th>f11</th>\n",
              "      <th>f12</th>\n",
              "      <th>f13</th>\n",
              "      <th>f14</th>\n",
              "      <th>f15</th>\n",
              "      <th>f16</th>\n",
              "      <th>f17</th>\n",
              "      <th>f18</th>\n",
              "      <th>f19</th>\n",
              "      <th>f20</th>\n",
              "      <th>f21</th>\n",
              "      <th>f22</th>\n",
              "      <th>f23</th>\n",
              "      <th>f24</th>\n",
              "      <th>f25</th>\n",
              "      <th>f26</th>\n",
              "      <th>f27</th>\n",
              "      <th>f28</th>\n",
              "      <th>f29</th>\n",
              "      <th>f30</th>\n",
              "      <th>f31</th>\n",
              "      <th>f32</th>\n",
              "      <th>f33</th>\n",
              "      <th>f34</th>\n",
              "      <th>f35</th>\n",
              "      <th>f36</th>\n",
              "      <th>f37</th>\n",
              "      <th>...</th>\n",
              "      <th>f128</th>\n",
              "      <th>f129</th>\n",
              "      <th>f130</th>\n",
              "      <th>f131</th>\n",
              "      <th>f132</th>\n",
              "      <th>f133</th>\n",
              "      <th>f134</th>\n",
              "      <th>f135</th>\n",
              "      <th>f136</th>\n",
              "      <th>f137</th>\n",
              "      <th>f138</th>\n",
              "      <th>f139</th>\n",
              "      <th>f140</th>\n",
              "      <th>f141</th>\n",
              "      <th>f142</th>\n",
              "      <th>f143</th>\n",
              "      <th>f144</th>\n",
              "      <th>f145</th>\n",
              "      <th>f146</th>\n",
              "      <th>f147</th>\n",
              "      <th>f148</th>\n",
              "      <th>f149</th>\n",
              "      <th>f150</th>\n",
              "      <th>f151</th>\n",
              "      <th>f152</th>\n",
              "      <th>f153</th>\n",
              "      <th>f154</th>\n",
              "      <th>f155</th>\n",
              "      <th>f156</th>\n",
              "      <th>f157</th>\n",
              "      <th>f158</th>\n",
              "      <th>f159</th>\n",
              "      <th>f160</th>\n",
              "      <th>f161</th>\n",
              "      <th>f162</th>\n",
              "      <th>f163</th>\n",
              "      <th>f164</th>\n",
              "      <th>f165</th>\n",
              "      <th>f166</th>\n",
              "      <th>class</th>\n",
              "    </tr>\n",
              "  </thead>\n",
              "  <tbody>\n",
              "    <tr>\n",
              "      <th>0</th>\n",
              "      <td>1</td>\n",
              "      <td>MUSK-211</td>\n",
              "      <td>211_1+1</td>\n",
              "      <td>46</td>\n",
              "      <td>-108</td>\n",
              "      <td>-60</td>\n",
              "      <td>-69</td>\n",
              "      <td>-117</td>\n",
              "      <td>49</td>\n",
              "      <td>38</td>\n",
              "      <td>-161</td>\n",
              "      <td>-8</td>\n",
              "      <td>5</td>\n",
              "      <td>-323</td>\n",
              "      <td>-220</td>\n",
              "      <td>-113</td>\n",
              "      <td>-299</td>\n",
              "      <td>-283</td>\n",
              "      <td>-307</td>\n",
              "      <td>-31</td>\n",
              "      <td>-106</td>\n",
              "      <td>-227</td>\n",
              "      <td>-42</td>\n",
              "      <td>-59</td>\n",
              "      <td>-22</td>\n",
              "      <td>-67</td>\n",
              "      <td>189</td>\n",
              "      <td>81</td>\n",
              "      <td>17</td>\n",
              "      <td>-27</td>\n",
              "      <td>-89</td>\n",
              "      <td>-67</td>\n",
              "      <td>105</td>\n",
              "      <td>-116</td>\n",
              "      <td>124</td>\n",
              "      <td>-106</td>\n",
              "      <td>5</td>\n",
              "      <td>-120</td>\n",
              "      <td>63</td>\n",
              "      <td>-165</td>\n",
              "      <td>...</td>\n",
              "      <td>81</td>\n",
              "      <td>-114</td>\n",
              "      <td>-187</td>\n",
              "      <td>45</td>\n",
              "      <td>-118</td>\n",
              "      <td>-75</td>\n",
              "      <td>-182</td>\n",
              "      <td>-234</td>\n",
              "      <td>-19</td>\n",
              "      <td>12</td>\n",
              "      <td>-13</td>\n",
              "      <td>-41</td>\n",
              "      <td>-119</td>\n",
              "      <td>-149</td>\n",
              "      <td>70</td>\n",
              "      <td>17</td>\n",
              "      <td>-20</td>\n",
              "      <td>-177</td>\n",
              "      <td>-101</td>\n",
              "      <td>-116</td>\n",
              "      <td>-14</td>\n",
              "      <td>-50</td>\n",
              "      <td>24</td>\n",
              "      <td>-81</td>\n",
              "      <td>-125</td>\n",
              "      <td>-114</td>\n",
              "      <td>-44</td>\n",
              "      <td>128</td>\n",
              "      <td>3</td>\n",
              "      <td>-244</td>\n",
              "      <td>-308</td>\n",
              "      <td>52</td>\n",
              "      <td>-7</td>\n",
              "      <td>39</td>\n",
              "      <td>126</td>\n",
              "      <td>156</td>\n",
              "      <td>-50</td>\n",
              "      <td>-112</td>\n",
              "      <td>96</td>\n",
              "      <td>1</td>\n",
              "    </tr>\n",
              "    <tr>\n",
              "      <th>1</th>\n",
              "      <td>2</td>\n",
              "      <td>MUSK-211</td>\n",
              "      <td>211_1+10</td>\n",
              "      <td>41</td>\n",
              "      <td>-188</td>\n",
              "      <td>-145</td>\n",
              "      <td>22</td>\n",
              "      <td>-117</td>\n",
              "      <td>-6</td>\n",
              "      <td>57</td>\n",
              "      <td>-171</td>\n",
              "      <td>-39</td>\n",
              "      <td>-100</td>\n",
              "      <td>-319</td>\n",
              "      <td>-111</td>\n",
              "      <td>-228</td>\n",
              "      <td>-281</td>\n",
              "      <td>-281</td>\n",
              "      <td>-300</td>\n",
              "      <td>54</td>\n",
              "      <td>-149</td>\n",
              "      <td>-98</td>\n",
              "      <td>-196</td>\n",
              "      <td>-27</td>\n",
              "      <td>-22</td>\n",
              "      <td>2</td>\n",
              "      <td>75</td>\n",
              "      <td>49</td>\n",
              "      <td>-34</td>\n",
              "      <td>45</td>\n",
              "      <td>-91</td>\n",
              "      <td>32</td>\n",
              "      <td>95</td>\n",
              "      <td>-116</td>\n",
              "      <td>85</td>\n",
              "      <td>-23</td>\n",
              "      <td>42</td>\n",
              "      <td>-58</td>\n",
              "      <td>61</td>\n",
              "      <td>-171</td>\n",
              "      <td>...</td>\n",
              "      <td>88</td>\n",
              "      <td>-21</td>\n",
              "      <td>-32</td>\n",
              "      <td>32</td>\n",
              "      <td>-128</td>\n",
              "      <td>-72</td>\n",
              "      <td>-124</td>\n",
              "      <td>-218</td>\n",
              "      <td>-94</td>\n",
              "      <td>53</td>\n",
              "      <td>-79</td>\n",
              "      <td>-20</td>\n",
              "      <td>-35</td>\n",
              "      <td>-26</td>\n",
              "      <td>4</td>\n",
              "      <td>50</td>\n",
              "      <td>17</td>\n",
              "      <td>-177</td>\n",
              "      <td>-102</td>\n",
              "      <td>-121</td>\n",
              "      <td>-66</td>\n",
              "      <td>-77</td>\n",
              "      <td>51</td>\n",
              "      <td>-41</td>\n",
              "      <td>-34</td>\n",
              "      <td>-32</td>\n",
              "      <td>-63</td>\n",
              "      <td>115</td>\n",
              "      <td>-5</td>\n",
              "      <td>-235</td>\n",
              "      <td>-59</td>\n",
              "      <td>-2</td>\n",
              "      <td>52</td>\n",
              "      <td>103</td>\n",
              "      <td>136</td>\n",
              "      <td>169</td>\n",
              "      <td>-61</td>\n",
              "      <td>-136</td>\n",
              "      <td>79</td>\n",
              "      <td>1</td>\n",
              "    </tr>\n",
              "    <tr>\n",
              "      <th>2</th>\n",
              "      <td>3</td>\n",
              "      <td>MUSK-211</td>\n",
              "      <td>211_1+11</td>\n",
              "      <td>46</td>\n",
              "      <td>-194</td>\n",
              "      <td>-145</td>\n",
              "      <td>28</td>\n",
              "      <td>-117</td>\n",
              "      <td>73</td>\n",
              "      <td>57</td>\n",
              "      <td>-168</td>\n",
              "      <td>-39</td>\n",
              "      <td>-22</td>\n",
              "      <td>-319</td>\n",
              "      <td>-111</td>\n",
              "      <td>-104</td>\n",
              "      <td>-283</td>\n",
              "      <td>-282</td>\n",
              "      <td>-303</td>\n",
              "      <td>52</td>\n",
              "      <td>-152</td>\n",
              "      <td>-97</td>\n",
              "      <td>-225</td>\n",
              "      <td>-28</td>\n",
              "      <td>-22</td>\n",
              "      <td>2</td>\n",
              "      <td>179</td>\n",
              "      <td>49</td>\n",
              "      <td>-33</td>\n",
              "      <td>46</td>\n",
              "      <td>-88</td>\n",
              "      <td>22</td>\n",
              "      <td>79</td>\n",
              "      <td>-116</td>\n",
              "      <td>19</td>\n",
              "      <td>-11</td>\n",
              "      <td>6</td>\n",
              "      <td>-38</td>\n",
              "      <td>71</td>\n",
              "      <td>-175</td>\n",
              "      <td>...</td>\n",
              "      <td>64</td>\n",
              "      <td>0</td>\n",
              "      <td>-23</td>\n",
              "      <td>-15</td>\n",
              "      <td>-129</td>\n",
              "      <td>-74</td>\n",
              "      <td>-125</td>\n",
              "      <td>-221</td>\n",
              "      <td>-93</td>\n",
              "      <td>53</td>\n",
              "      <td>-72</td>\n",
              "      <td>-19</td>\n",
              "      <td>-33</td>\n",
              "      <td>-26</td>\n",
              "      <td>3</td>\n",
              "      <td>49</td>\n",
              "      <td>17</td>\n",
              "      <td>-177</td>\n",
              "      <td>-102</td>\n",
              "      <td>-119</td>\n",
              "      <td>-66</td>\n",
              "      <td>-81</td>\n",
              "      <td>51</td>\n",
              "      <td>-41</td>\n",
              "      <td>-27</td>\n",
              "      <td>-41</td>\n",
              "      <td>-140</td>\n",
              "      <td>77</td>\n",
              "      <td>-163</td>\n",
              "      <td>-238</td>\n",
              "      <td>-134</td>\n",
              "      <td>-154</td>\n",
              "      <td>57</td>\n",
              "      <td>143</td>\n",
              "      <td>142</td>\n",
              "      <td>165</td>\n",
              "      <td>-67</td>\n",
              "      <td>-145</td>\n",
              "      <td>39</td>\n",
              "      <td>1</td>\n",
              "    </tr>\n",
              "    <tr>\n",
              "      <th>3</th>\n",
              "      <td>4</td>\n",
              "      <td>MUSK-211</td>\n",
              "      <td>211_1+12</td>\n",
              "      <td>41</td>\n",
              "      <td>-188</td>\n",
              "      <td>-145</td>\n",
              "      <td>22</td>\n",
              "      <td>-117</td>\n",
              "      <td>-7</td>\n",
              "      <td>57</td>\n",
              "      <td>-170</td>\n",
              "      <td>-39</td>\n",
              "      <td>-99</td>\n",
              "      <td>-319</td>\n",
              "      <td>-111</td>\n",
              "      <td>-228</td>\n",
              "      <td>-282</td>\n",
              "      <td>-281</td>\n",
              "      <td>-301</td>\n",
              "      <td>54</td>\n",
              "      <td>-150</td>\n",
              "      <td>-98</td>\n",
              "      <td>-196</td>\n",
              "      <td>-28</td>\n",
              "      <td>-22</td>\n",
              "      <td>2</td>\n",
              "      <td>77</td>\n",
              "      <td>48</td>\n",
              "      <td>-34</td>\n",
              "      <td>46</td>\n",
              "      <td>-91</td>\n",
              "      <td>32</td>\n",
              "      <td>94</td>\n",
              "      <td>-116</td>\n",
              "      <td>84</td>\n",
              "      <td>-23</td>\n",
              "      <td>41</td>\n",
              "      <td>-58</td>\n",
              "      <td>62</td>\n",
              "      <td>-171</td>\n",
              "      <td>...</td>\n",
              "      <td>88</td>\n",
              "      <td>-20</td>\n",
              "      <td>-32</td>\n",
              "      <td>32</td>\n",
              "      <td>-128</td>\n",
              "      <td>-73</td>\n",
              "      <td>-125</td>\n",
              "      <td>-220</td>\n",
              "      <td>-93</td>\n",
              "      <td>53</td>\n",
              "      <td>-78</td>\n",
              "      <td>-19</td>\n",
              "      <td>-34</td>\n",
              "      <td>-26</td>\n",
              "      <td>4</td>\n",
              "      <td>50</td>\n",
              "      <td>17</td>\n",
              "      <td>-177</td>\n",
              "      <td>-101</td>\n",
              "      <td>-121</td>\n",
              "      <td>-65</td>\n",
              "      <td>-77</td>\n",
              "      <td>52</td>\n",
              "      <td>-41</td>\n",
              "      <td>-34</td>\n",
              "      <td>-32</td>\n",
              "      <td>-66</td>\n",
              "      <td>115</td>\n",
              "      <td>-7</td>\n",
              "      <td>-236</td>\n",
              "      <td>-60</td>\n",
              "      <td>-4</td>\n",
              "      <td>52</td>\n",
              "      <td>104</td>\n",
              "      <td>136</td>\n",
              "      <td>168</td>\n",
              "      <td>-60</td>\n",
              "      <td>-135</td>\n",
              "      <td>80</td>\n",
              "      <td>1</td>\n",
              "    </tr>\n",
              "    <tr>\n",
              "      <th>4</th>\n",
              "      <td>5</td>\n",
              "      <td>MUSK-211</td>\n",
              "      <td>211_1+13</td>\n",
              "      <td>41</td>\n",
              "      <td>-188</td>\n",
              "      <td>-145</td>\n",
              "      <td>22</td>\n",
              "      <td>-117</td>\n",
              "      <td>-7</td>\n",
              "      <td>57</td>\n",
              "      <td>-170</td>\n",
              "      <td>-39</td>\n",
              "      <td>-99</td>\n",
              "      <td>-319</td>\n",
              "      <td>-111</td>\n",
              "      <td>-228</td>\n",
              "      <td>-282</td>\n",
              "      <td>-281</td>\n",
              "      <td>-301</td>\n",
              "      <td>54</td>\n",
              "      <td>-150</td>\n",
              "      <td>-98</td>\n",
              "      <td>-196</td>\n",
              "      <td>-28</td>\n",
              "      <td>-22</td>\n",
              "      <td>2</td>\n",
              "      <td>78</td>\n",
              "      <td>48</td>\n",
              "      <td>-34</td>\n",
              "      <td>46</td>\n",
              "      <td>-91</td>\n",
              "      <td>31</td>\n",
              "      <td>94</td>\n",
              "      <td>-116</td>\n",
              "      <td>84</td>\n",
              "      <td>-23</td>\n",
              "      <td>41</td>\n",
              "      <td>-58</td>\n",
              "      <td>62</td>\n",
              "      <td>-171</td>\n",
              "      <td>...</td>\n",
              "      <td>88</td>\n",
              "      <td>-20</td>\n",
              "      <td>-32</td>\n",
              "      <td>32</td>\n",
              "      <td>-128</td>\n",
              "      <td>-73</td>\n",
              "      <td>-125</td>\n",
              "      <td>-220</td>\n",
              "      <td>-93</td>\n",
              "      <td>53</td>\n",
              "      <td>-78</td>\n",
              "      <td>-19</td>\n",
              "      <td>-34</td>\n",
              "      <td>-26</td>\n",
              "      <td>4</td>\n",
              "      <td>50</td>\n",
              "      <td>17</td>\n",
              "      <td>-177</td>\n",
              "      <td>-101</td>\n",
              "      <td>-121</td>\n",
              "      <td>-65</td>\n",
              "      <td>-76</td>\n",
              "      <td>52</td>\n",
              "      <td>-41</td>\n",
              "      <td>-34</td>\n",
              "      <td>-32</td>\n",
              "      <td>-66</td>\n",
              "      <td>115</td>\n",
              "      <td>-8</td>\n",
              "      <td>-236</td>\n",
              "      <td>-60</td>\n",
              "      <td>-4</td>\n",
              "      <td>52</td>\n",
              "      <td>104</td>\n",
              "      <td>137</td>\n",
              "      <td>168</td>\n",
              "      <td>-60</td>\n",
              "      <td>-135</td>\n",
              "      <td>80</td>\n",
              "      <td>1</td>\n",
              "    </tr>\n",
              "  </tbody>\n",
              "</table>\n",
              "<p>5 rows × 170 columns</p>\n",
              "</div>"
            ],
            "text/plain": [
              "   ID molecule_name conformation_name  f1   f2  ...  f163  f164  f165  f166  class\n",
              "0   1      MUSK-211           211_1+1  46 -108  ...   156   -50  -112    96      1\n",
              "1   2      MUSK-211          211_1+10  41 -188  ...   169   -61  -136    79      1\n",
              "2   3      MUSK-211          211_1+11  46 -194  ...   165   -67  -145    39      1\n",
              "3   4      MUSK-211          211_1+12  41 -188  ...   168   -60  -135    80      1\n",
              "4   5      MUSK-211          211_1+13  41 -188  ...   168   -60  -135    80      1\n",
              "\n",
              "[5 rows x 170 columns]"
            ]
          },
          "metadata": {
            "tags": []
          },
          "execution_count": 3
        }
      ]
    },
    {
      "cell_type": "code",
      "metadata": {
        "id": "2SoV8397yk4r",
        "colab_type": "code",
        "colab": {
          "base_uri": "https://localhost:8080/",
          "height": 34
        },
        "outputId": "fa82b3b8-b423-4fe6-b171-2bbf3aded6d7"
      },
      "source": [
        "data.shape"
      ],
      "execution_count": 4,
      "outputs": [
        {
          "output_type": "execute_result",
          "data": {
            "text/plain": [
              "(6598, 170)"
            ]
          },
          "metadata": {
            "tags": []
          },
          "execution_count": 4
        }
      ]
    },
    {
      "cell_type": "code",
      "metadata": {
        "id": "4BZkhvNcyl9A",
        "colab_type": "code",
        "colab": {}
      },
      "source": [
        "df = data"
      ],
      "execution_count": 0,
      "outputs": []
    },
    {
      "cell_type": "markdown",
      "metadata": {
        "id": "QnsDTjckypGo",
        "colab_type": "text"
      },
      "source": [
        "Handling non-numerical data"
      ]
    },
    {
      "cell_type": "code",
      "metadata": {
        "id": "4pqZItOryoDN",
        "colab_type": "code",
        "colab": {}
      },
      "source": [
        "def handle_non_numerical_data(df):\n",
        "    columns = df.columns.values\n",
        "    for column in columns:\n",
        "        text_digit_vals = {}\n",
        "        def convert_to_int(val):\n",
        "            return text_digit_vals[val]\n",
        "\n",
        "        if df[column].dtype != np.int64 and df[column].dtype != np.float64:\n",
        "            column_contents = df[column].values.tolist()\n",
        "            unique_elements = set(column_contents)\n",
        "            x = 0\n",
        "            for unique in unique_elements:\n",
        "                if unique not in text_digit_vals:\n",
        "                    text_digit_vals[unique] = x\n",
        "                    x+=1\n",
        "\n",
        "            df[column] = list(map(convert_to_int, df[column]))\n",
        "\n",
        "    return df"
      ],
      "execution_count": 0,
      "outputs": []
    },
    {
      "cell_type": "code",
      "metadata": {
        "id": "s6Snwc9eynR9",
        "colab_type": "code",
        "colab": {
          "base_uri": "https://localhost:8080/",
          "height": 403
        },
        "outputId": "c3784b2c-3c3f-4fd5-85c4-9454e18a0876"
      },
      "source": [
        "df = handle_non_numerical_data(df)\n",
        "print(df.head(20))"
      ],
      "execution_count": 11,
      "outputs": [
        {
          "output_type": "stream",
          "text": [
            "    ID  molecule_name  conformation_name  f1  ...  f164  f165  f166  class\n",
            "0    1             19                195  46  ...   -50  -112    96      1\n",
            "1    2             19               2260  41  ...   -61  -136    79      1\n",
            "2    3             19               5279  46  ...   -67  -145    39      1\n",
            "3    4             19                425  41  ...   -60  -135    80      1\n",
            "4    5             19               1079  41  ...   -60  -135    80      1\n",
            "5    6             19                503  46  ...   -67  -145    40      1\n",
            "6    7             19               1788  47  ...   -68  -145    37      1\n",
            "7    8             19               1678  41  ...   -60  -135    81      1\n",
            "8    9             19               4601  41  ...   -60  -135    81      1\n",
            "9   10             19               5816  47  ...   -68  -146    37      1\n",
            "10  11             19               4602  41  ...   -60  -135    81      1\n",
            "11  12             19               5751  44  ...   -65  -132    14      1\n",
            "12  13             19                617  44  ...   -64  -131    14      1\n",
            "13  14             19               2525  44  ...   -64  -131    15      1\n",
            "14  15             19               2170  46  ...   -50  -114    96      1\n",
            "15  16             19               5265  44  ...   -65  -132    14      1\n",
            "16  17             19               3586  44  ...   -65  -133    14      1\n",
            "17  18             19               4662  46  ...   -50  -113    97      1\n",
            "18  19             19               5399  46  ...   -50  -113    97      1\n",
            "19  20             79               1392  33  ...   -60  -132    58      1\n",
            "\n",
            "[20 rows x 170 columns]\n"
          ],
          "name": "stdout"
        }
      ]
    },
    {
      "cell_type": "markdown",
      "metadata": {
        "id": "PHD1igkTzZLY",
        "colab_type": "text"
      },
      "source": [
        "Extracting important features"
      ]
    },
    {
      "cell_type": "code",
      "metadata": {
        "id": "ueTQlryDytka",
        "colab_type": "code",
        "colab": {
          "base_uri": "https://localhost:8080/",
          "height": 282
        },
        "outputId": "b09b9118-486e-46c8-c37b-65af094cb144"
      },
      "source": [
        "X = df.iloc[:,0:169]  #independent columns\n",
        "y = df.iloc[:,-1]    #target column i.e class\n",
        "\n",
        "model = ExtraTreesClassifier()\n",
        "model.fit(X,y)\n",
        "\n",
        "#plot graph of feature importances for better visualization\n",
        "feat_importances = pd.Series(model.feature_importances_, index=X.columns) #use inbuilt class feature_importances of tree based classifiers\n",
        "feat_importances.nlargest(20).plot(kind='barh')\n",
        "\n",
        "plt.figure(figsize= (200,100))\n",
        "plt.show()"
      ],
      "execution_count": 26,
      "outputs": [
        {
          "output_type": "display_data",
          "data": {
            "image/png": "[encoded data removed]",
            "text/plain": [
              "<Figure size 432x288 with 1 Axes>"
            ]
          },
          "metadata": {
            "tags": [],
            "needs_background": "light"
          }
        },
        {
          "output_type": "display_data",
          "data": {
            "text/plain": [
              "<Figure size 14400x7200 with 0 Axes>"
            ]
          },
          "metadata": {
            "tags": []
          }
        }
      ]
    },
    {
      "cell_type": "code",
      "metadata": {
        "id": "E0QbfX1xzsPI",
        "colab_type": "code",
        "colab": {
          "base_uri": "https://localhost:8080/",
          "height": 874
        },
        "outputId": "df1cdd8b-c3fb-49f3-df87-6e81ba193068"
      },
      "source": [
        "print(feat_importances.nlargest(50))"
      ],
      "execution_count": 13,
      "outputs": [
        {
          "output_type": "stream",
          "text": [
            "ID               0.174496\n",
            "molecule_name    0.021893\n",
            "f36              0.015769\n",
            "f66              0.014494\n",
            "f1               0.014223\n",
            "f132             0.013256\n",
            "f92              0.013100\n",
            "f126             0.012042\n",
            "f124             0.010998\n",
            "f162             0.010801\n",
            "f96              0.010474\n",
            "f102             0.010308\n",
            "f91              0.009455\n",
            "f160             0.009438\n",
            "f161             0.008856\n",
            "f163             0.008850\n",
            "f42              0.008493\n",
            "f99              0.008453\n",
            "f154             0.008413\n",
            "f111             0.008277\n",
            "f80              0.008032\n",
            "f72              0.007587\n",
            "f71              0.007459\n",
            "f61              0.007290\n",
            "f103             0.007156\n",
            "f14              0.006889\n",
            "f109             0.006763\n",
            "f31              0.006628\n",
            "f165             0.006618\n",
            "f41              0.006598\n",
            "f39              0.006454\n",
            "f15              0.006433\n",
            "f3               0.006249\n",
            "f4               0.006222\n",
            "f69              0.006196\n",
            "f78              0.006077\n",
            "f125             0.005973\n",
            "f151             0.005927\n",
            "f152             0.005920\n",
            "f30              0.005714\n",
            "f82              0.005651\n",
            "f166             0.005515\n",
            "f44              0.005506\n",
            "f164             0.005494\n",
            "f153             0.005345\n",
            "f11              0.005306\n",
            "f149             0.005286\n",
            "f83              0.005204\n",
            "f143             0.005081\n",
            "f137             0.005075\n",
            "dtype: float64\n"
          ],
          "name": "stdout"
        }
      ]
    },
    {
      "cell_type": "markdown",
      "metadata": {
        "id": "hXUVzvEnzzaT",
        "colab_type": "text"
      },
      "source": [
        "PREPROCESS THE DATA"
      ]
    },
    {
      "cell_type": "code",
      "metadata": {
        "id": "RbMKicX9zvOI",
        "colab_type": "code",
        "colab": {
          "base_uri": "https://localhost:8080/",
          "height": 312
        },
        "outputId": "c41bac30-8565-4556-b91a-cd2f9962d637"
      },
      "source": [
        "#plot the dataset frequency\n",
        "labels = ['non-musk', 'musk']\n",
        "classes = pd.value_counts(data['class'],sort = True)\n",
        "classes.plot(kind = 'bar', rot = 0)\n",
        "plt.title(\"class distribution \")\n",
        "plt.xticks(range(2), labels )\n",
        "plt.xlabel(\"Class\")\n",
        "plt.ylabel(\"Frequency\")"
      ],
      "execution_count": 14,
      "outputs": [
        {
          "output_type": "execute_result",
          "data": {
            "text/plain": [
              "Text(0, 0.5, 'Frequency')"
            ]
          },
          "metadata": {
            "tags": []
          },
          "execution_count": 14
        },
        {
          "output_type": "display_data",
          "data": {
            "image/png": "[encoded data removed]",
            "text/plain": [
              "<Figure size 432x288 with 1 Axes>"
            ]
          },
          "metadata": {
            "tags": [],
            "needs_background": "light"
          }
        }
      ]
    },
    {
      "cell_type": "markdown",
      "metadata": {
        "id": "oi9Ps5eFz3sK",
        "colab_type": "text"
      },
      "source": [
        "Data Resampling"
      ]
    },
    {
      "cell_type": "code",
      "metadata": {
        "id": "DrRv7mWrzyWq",
        "colab_type": "code",
        "colab": {}
      },
      "source": [
        "# Class count\n",
        "count_class_0, count_class_1 = data['class'].value_counts()\n",
        "\n",
        "# Divide by class\n",
        "df_class_0 = data[data['class'] == 0]\n",
        "df_class_1 = data[data['class'] == 1]"
      ],
      "execution_count": 0,
      "outputs": []
    },
    {
      "cell_type": "markdown",
      "metadata": {
        "id": "YVp-_n7Rz9pn",
        "colab_type": "text"
      },
      "source": [
        "Data over-sampling"
      ]
    },
    {
      "cell_type": "code",
      "metadata": {
        "id": "oEP0FoXKz8-n",
        "colab_type": "code",
        "colab": {
          "base_uri": "https://localhost:8080/",
          "height": 346
        },
        "outputId": "a3d15bd7-0692-4edd-cc82-5b38e6043e35"
      },
      "source": [
        "df_class_1_over = df_class_1.sample(count_class_0, replace=True)\n",
        "df_test_over = pd.concat([df_class_0, df_class_1_over], axis=0)\n",
        "\n",
        "print('Random over-sampling:')\n",
        "print(df_test_over['class'].value_counts())\n",
        "\n",
        "df_test_over['class'].value_counts().plot(kind='bar', title='Count (class)');"
      ],
      "execution_count": 16,
      "outputs": [
        {
          "output_type": "stream",
          "text": [
            "Random over-sampling:\n",
            "1    5581\n",
            "0    5581\n",
            "Name: class, dtype: int64\n"
          ],
          "name": "stdout"
        },
        {
          "output_type": "display_data",
          "data": {
            "image/png": "[encoded data removed]",
            "text/plain": [
              "<Figure size 432x288 with 1 Axes>"
            ]
          },
          "metadata": {
            "tags": [],
            "needs_background": "light"
          }
        }
      ]
    },
    {
      "cell_type": "code",
      "metadata": {
        "id": "AJZJD0XA0EBX",
        "colab_type": "code",
        "colab": {
          "base_uri": "https://localhost:8080/",
          "height": 34
        },
        "outputId": "c8c1e972-05fc-47f7-e592-988a176af770"
      },
      "source": [
        "df_test_over.shape"
      ],
      "execution_count": 17,
      "outputs": [
        {
          "output_type": "execute_result",
          "data": {
            "text/plain": [
              "(11162, 170)"
            ]
          },
          "metadata": {
            "tags": []
          },
          "execution_count": 17
        }
      ]
    },
    {
      "cell_type": "markdown",
      "metadata": {
        "id": "rIyu_plO0K-Z",
        "colab_type": "text"
      },
      "source": [
        "Careating a new dataframe without ID column and the 49 most important features"
      ]
    },
    {
      "cell_type": "code",
      "metadata": {
        "id": "MlHIM_Ut0KLj",
        "colab_type": "code",
        "colab": {}
      },
      "source": [
        "new_df = df_test_over[['molecule_name','f36','f92','f66', 'f1','f126','f162','f132','f163','f99', \n",
        "'f125', 'f96' ,'f95', 'f124' ,'f102'  ,'f104'  ,'f71' ,       \n",
        "     'f15',      \n",
        "'f165',            \n",
        "'f80'  ,            \n",
        "'f72'   ,           \n",
        "'f105'   ,          \n",
        "'f91'     ,         \n",
        "'f160'     ,        \n",
        "'f151'      ,       \n",
        "'f69'        ,      \n",
        "'f11'      ,        \n",
        "'f41'       ,       \n",
        "'f138'       ,      \n",
        "'f3'         ,     \n",
        "'f154'         ,    \n",
        "'f103'          ,   \n",
        "'f108'           ,  \n",
        "'f161'           , \n",
        "'f166'             ,\n",
        "'f25'      ,\n",
        "'f4'       ,\n",
        "'f140'      ,  \n",
        "'f153'       ,  \n",
        "'f110'        ,  \n",
        "'f152'         ,  \n",
        "'f65'           ,\n",
        "'f123'           ,  \n",
        "'f44'          ,\n",
        "'f22'          ,\n",
        "'f86'          ,\n",
        "'f130',\n",
        "'f164',  \n",
        "'f42',\n",
        "'class']].copy()"
      ],
      "execution_count": 0,
      "outputs": []
    },
    {
      "cell_type": "code",
      "metadata": {
        "id": "sstmUOki0HLo",
        "colab_type": "code",
        "colab": {
          "base_uri": "https://localhost:8080/",
          "height": 34
        },
        "outputId": "653f9108-0fdd-41a1-b4d1-710b5968a07e"
      },
      "source": [
        "new_df.head(20)\n",
        "print(new_df.shape)"
      ],
      "execution_count": 30,
      "outputs": [
        {
          "output_type": "stream",
          "text": [
            "(11162, 50)\n"
          ],
          "name": "stdout"
        }
      ]
    },
    {
      "cell_type": "code",
      "metadata": {
        "id": "M6jgq6ds3e8v",
        "colab_type": "code",
        "colab": {
          "base_uri": "https://localhost:8080/",
          "height": 126
        },
        "outputId": "dd68bc70-a55f-4ef5-bac1-3f5cc30e01d7"
      },
      "source": [
        "X = new_df.iloc[:,0:49]\n",
        "Y = new_df.iloc[:,-1]\n",
        "X.head(2)"
      ],
      "execution_count": 34,
      "outputs": [
        {
          "output_type": "execute_result",
          "data": {
            "text/html": [
              "<div>\n",
              "<style scoped>\n",
              "    .dataframe tbody tr th:only-of-type {\n",
              "        vertical-align: middle;\n",
              "    }\n",
              "\n",
              "    .dataframe tbody tr th {\n",
              "        vertical-align: top;\n",
              "    }\n",
              "\n",
              "    .dataframe thead th {\n",
              "        text-align: right;\n",
              "    }\n",
              "</style>\n",
              "<table border=\"1\" class=\"dataframe\">\n",
              "  <thead>\n",
              "    <tr style=\"text-align: right;\">\n",
              "      <th></th>\n",
              "      <th>molecule_name</th>\n",
              "      <th>f36</th>\n",
              "      <th>f92</th>\n",
              "      <th>f66</th>\n",
              "      <th>f1</th>\n",
              "      <th>f126</th>\n",
              "      <th>f162</th>\n",
              "      <th>f132</th>\n",
              "      <th>f163</th>\n",
              "      <th>f99</th>\n",
              "      <th>f125</th>\n",
              "      <th>f96</th>\n",
              "      <th>f95</th>\n",
              "      <th>f124</th>\n",
              "      <th>f102</th>\n",
              "      <th>f104</th>\n",
              "      <th>f71</th>\n",
              "      <th>f15</th>\n",
              "      <th>f165</th>\n",
              "      <th>f80</th>\n",
              "      <th>f72</th>\n",
              "      <th>f105</th>\n",
              "      <th>f91</th>\n",
              "      <th>f160</th>\n",
              "      <th>f151</th>\n",
              "      <th>f69</th>\n",
              "      <th>f11</th>\n",
              "      <th>f41</th>\n",
              "      <th>f138</th>\n",
              "      <th>f3</th>\n",
              "      <th>f154</th>\n",
              "      <th>f103</th>\n",
              "      <th>f108</th>\n",
              "      <th>f161</th>\n",
              "      <th>f166</th>\n",
              "      <th>f25</th>\n",
              "      <th>f4</th>\n",
              "      <th>f140</th>\n",
              "      <th>f153</th>\n",
              "      <th>f110</th>\n",
              "      <th>f152</th>\n",
              "      <th>f65</th>\n",
              "      <th>f123</th>\n",
              "      <th>f44</th>\n",
              "      <th>f22</th>\n",
              "      <th>f86</th>\n",
              "      <th>f130</th>\n",
              "      <th>f164</th>\n",
              "      <th>f42</th>\n",
              "    </tr>\n",
              "  </thead>\n",
              "  <tbody>\n",
              "    <tr>\n",
              "      <th>1017</th>\n",
              "      <td>48</td>\n",
              "      <td>211</td>\n",
              "      <td>166</td>\n",
              "      <td>179</td>\n",
              "      <td>114</td>\n",
              "      <td>6</td>\n",
              "      <td>290</td>\n",
              "      <td>-138</td>\n",
              "      <td>143</td>\n",
              "      <td>-156</td>\n",
              "      <td>96</td>\n",
              "      <td>-55</td>\n",
              "      <td>30</td>\n",
              "      <td>-108</td>\n",
              "      <td>266</td>\n",
              "      <td>-284</td>\n",
              "      <td>-139</td>\n",
              "      <td>-284</td>\n",
              "      <td>-117</td>\n",
              "      <td>-166</td>\n",
              "      <td>-82</td>\n",
              "      <td>-292</td>\n",
              "      <td>114</td>\n",
              "      <td>34</td>\n",
              "      <td>-62</td>\n",
              "      <td>-118</td>\n",
              "      <td>-293</td>\n",
              "      <td>-93</td>\n",
              "      <td>-70</td>\n",
              "      <td>-144</td>\n",
              "      <td>83</td>\n",
              "      <td>-257</td>\n",
              "      <td>-120</td>\n",
              "      <td>254</td>\n",
              "      <td>60</td>\n",
              "      <td>111</td>\n",
              "      <td>-77</td>\n",
              "      <td>-33</td>\n",
              "      <td>-113</td>\n",
              "      <td>-248</td>\n",
              "      <td>-122</td>\n",
              "      <td>-146</td>\n",
              "      <td>130</td>\n",
              "      <td>-297</td>\n",
              "      <td>-22</td>\n",
              "      <td>23</td>\n",
              "      <td>-188</td>\n",
              "      <td>-58</td>\n",
              "      <td>161</td>\n",
              "    </tr>\n",
              "    <tr>\n",
              "      <th>1018</th>\n",
              "      <td>48</td>\n",
              "      <td>212</td>\n",
              "      <td>163</td>\n",
              "      <td>179</td>\n",
              "      <td>112</td>\n",
              "      <td>6</td>\n",
              "      <td>290</td>\n",
              "      <td>-138</td>\n",
              "      <td>143</td>\n",
              "      <td>-156</td>\n",
              "      <td>94</td>\n",
              "      <td>-54</td>\n",
              "      <td>30</td>\n",
              "      <td>-108</td>\n",
              "      <td>264</td>\n",
              "      <td>-284</td>\n",
              "      <td>-138</td>\n",
              "      <td>-284</td>\n",
              "      <td>-117</td>\n",
              "      <td>-165</td>\n",
              "      <td>-77</td>\n",
              "      <td>-292</td>\n",
              "      <td>111</td>\n",
              "      <td>36</td>\n",
              "      <td>-62</td>\n",
              "      <td>-117</td>\n",
              "      <td>-294</td>\n",
              "      <td>-92</td>\n",
              "      <td>-71</td>\n",
              "      <td>-144</td>\n",
              "      <td>85</td>\n",
              "      <td>-258</td>\n",
              "      <td>-120</td>\n",
              "      <td>255</td>\n",
              "      <td>60</td>\n",
              "      <td>111</td>\n",
              "      <td>-77</td>\n",
              "      <td>-33</td>\n",
              "      <td>-113</td>\n",
              "      <td>-248</td>\n",
              "      <td>-122</td>\n",
              "      <td>-146</td>\n",
              "      <td>130</td>\n",
              "      <td>-297</td>\n",
              "      <td>-22</td>\n",
              "      <td>23</td>\n",
              "      <td>-188</td>\n",
              "      <td>-58</td>\n",
              "      <td>162</td>\n",
              "    </tr>\n",
              "  </tbody>\n",
              "</table>\n",
              "</div>"
            ],
            "text/plain": [
              "      molecule_name  f36  f92  f66   f1  f126  ...  f44  f22  f86  f130  f164  f42\n",
              "1017             48  211  166  179  114     6  ... -297  -22   23  -188   -58  161\n",
              "1018             48  212  163  179  112     6  ... -297  -22   23  -188   -58  162\n",
              "\n",
              "[2 rows x 49 columns]"
            ]
          },
          "metadata": {
            "tags": []
          },
          "execution_count": 34
        }
      ]
    },
    {
      "cell_type": "code",
      "metadata": {
        "id": "pXX5IXLy3ijO",
        "colab_type": "code",
        "colab": {
          "base_uri": "https://localhost:8080/",
          "height": 67
        },
        "outputId": "2e000224-2225-4dec-8595-e6232b965dbe"
      },
      "source": [
        "Y.head(2)"
      ],
      "execution_count": 36,
      "outputs": [
        {
          "output_type": "execute_result",
          "data": {
            "text/plain": [
              "1017    0\n",
              "1018    0\n",
              "Name: class, dtype: int64"
            ]
          },
          "metadata": {
            "tags": []
          },
          "execution_count": 36
        }
      ]
    },
    {
      "cell_type": "code",
      "metadata": {
        "id": "VZZMIw3G3zeU",
        "colab_type": "code",
        "colab": {
          "base_uri": "https://localhost:8080/",
          "height": 235
        },
        "outputId": "648d0229-4706-4ddd-ceb9-93d9f0c9e23f"
      },
      "source": [
        "#standardize input features \n",
        "sc = StandardScaler()\n",
        "X = sc.fit_transform(X)\n",
        "X"
      ],
      "execution_count": 39,
      "outputs": [
        {
          "output_type": "execute_result",
          "data": {
            "text/plain": [
              "array([[-0.24449478,  2.0187279 ,  1.42971598, ..., -0.93957403,\n",
              "        -0.14467066,  1.49094244],\n",
              "       [-0.24449478,  2.03720753,  1.38282351, ..., -0.93957403,\n",
              "        -0.14467066,  1.50231867],\n",
              "       [-0.24449478, -0.05099033,  2.47698097, ..., -0.93957403,\n",
              "        -0.18923077,  1.74121949],\n",
              "       ...,\n",
              "       [-1.15169046, -0.58689951, -0.41472088, ...,  0.83856621,\n",
              "        -0.36747122,  0.72873505],\n",
              "       [ 1.81731356, -1.45544198, -1.36820095, ..., -0.93957403,\n",
              "        -0.21151083, -0.84118463],\n",
              "       [-0.49191178, -0.56841988,  0.85137561, ..., -0.91788939,\n",
              "         0.14497007,  0.55809161]])"
            ]
          },
          "metadata": {
            "tags": []
          },
          "execution_count": 39
        }
      ]
    },
    {
      "cell_type": "markdown",
      "metadata": {
        "id": "WpRTXr1N4Lo2",
        "colab_type": "text"
      },
      "source": [
        "Training the model"
      ]
    },
    {
      "cell_type": "code",
      "metadata": {
        "id": "TlFBJc_I4I-k",
        "colab_type": "code",
        "colab": {
          "base_uri": "https://localhost:8080/",
          "height": 34
        },
        "outputId": "0ade9854-d7b4-4632-8095-97755c5afaaa"
      },
      "source": [
        "X_train, X_test, Y_train, Y_test = train_test_split(X, Y, test_size = 0.2)\n",
        "# Normalize the testing and training set\n",
        "X_train = normalize(X_train)\n",
        "X_test = normalize(X_test)\n",
        "X_train.shape"
      ],
      "execution_count": 56,
      "outputs": [
        {
          "output_type": "execute_result",
          "data": {
            "text/plain": [
              "(8929, 49)"
            ]
          },
          "metadata": {
            "tags": []
          },
          "execution_count": 56
        }
      ]
    },
    {
      "cell_type": "code",
      "metadata": {
        "id": "VZ8xT2jG3si3",
        "colab_type": "code",
        "colab": {}
      },
      "source": [
        "# Defining the model\n",
        "my_model = Sequential()\n",
        "#First layer \n",
        "\n",
        "my_model.add(Dense(25,activation= 'relu', kernel_initializer= 'random_normal', input_shape = (49,)))\n",
        "\n",
        "my_model.add(Dropout(0.5))\n",
        "#Second layer \n",
        "my_model.add(Dense(25, activation='relu', kernel_initializer= 'random_normal'))\n",
        "my_model.add(Dropout(0.5))\n",
        "\n",
        "#output\n",
        "my_model.add(Dense(1, activation='sigmoid', kernel_initializer= 'random_normal'))"
      ],
      "execution_count": 0,
      "outputs": []
    },
    {
      "cell_type": "code",
      "metadata": {
        "id": "KaXfX1Aq4euK",
        "colab_type": "code",
        "colab": {
          "base_uri": "https://localhost:8080/",
          "height": 644
        },
        "outputId": "4e8287b4-ff3f-4104-c636-39b5af825630"
      },
      "source": [
        "\n",
        "plot_model(my_model , show_shapes= True, expand_nested= True, to_file= 'model.png')\n"
      ],
      "execution_count": 58,
      "outputs": [
        {
          "output_type": "execute_result",
          "data": {
            "image/png": "[encoded data removed]",
            "text/plain": [
              "<IPython.core.display.Image object>"
            ]
          },
          "metadata": {
            "tags": []
          },
          "execution_count": 58
        }
      ]
    },
    {
      "cell_type": "code",
      "metadata": {
        "id": "_72Z0N0E4n46",
        "colab_type": "code",
        "colab": {}
      },
      "source": [
        "sgd = SGD(lr = 0.01, momentum=0.9)"
      ],
      "execution_count": 0,
      "outputs": []
    },
    {
      "cell_type": "markdown",
      "metadata": {
        "id": "Jtkt3wvo40x_",
        "colab_type": "text"
      },
      "source": [
        "Accuracy Metrices\n"
      ]
    },
    {
      "cell_type": "code",
      "metadata": {
        "id": "zReZhbS14yN_",
        "colab_type": "code",
        "colab": {}
      },
      "source": [
        "def recall_m(y_true, y_pred):\n",
        "        true_positives = K.sum(K.round(K.clip(y_true * y_pred, 0, 1)))\n",
        "        possible_positives = K.sum(K.round(K.clip(y_true, 0, 1)))\n",
        "        recall = true_positives / (possible_positives + K.epsilon())\n",
        "        return recall\n",
        "\n",
        "def precision_m(y_true, y_pred):\n",
        "        true_positives = K.sum(K.round(K.clip(y_true * y_pred, 0, 1)))\n",
        "        predicted_positives = K.sum(K.round(K.clip(y_pred, 0, 1)))\n",
        "        precision = true_positives / (predicted_positives + K.epsilon())\n",
        "        return precision\n",
        "\n",
        "def f1_m(y_true, y_pred):\n",
        "    precision = precision_m(y_true, y_pred)\n",
        "    recall = recall_m(y_true, y_pred)\n",
        "    return 2*((precision*recall)/(precision+recall+K.epsilon()))"
      ],
      "execution_count": 0,
      "outputs": []
    },
    {
      "cell_type": "code",
      "metadata": {
        "id": "hyfr560W8fj6",
        "colab_type": "code",
        "colab": {}
      },
      "source": [
        "my_model.compile(optimizer = 'adam', loss = 'binary_crossentropy', metrics= ['acc',f1_m,precision_m, recall_m])"
      ],
      "execution_count": 0,
      "outputs": []
    },
    {
      "cell_type": "code",
      "metadata": {
        "id": "YZK10CGB8x4-",
        "colab_type": "code",
        "colab": {
          "base_uri": "https://localhost:8080/",
          "height": 726
        },
        "outputId": "5c2c282a-f862-4212-cd8e-7a8a3cfcec65"
      },
      "source": [
        "history = my_model.fit(X_train,Y_train, validation_split= 0.20, batch_size = 32, epochs = 20)"
      ],
      "execution_count": 62,
      "outputs": [
        {
          "output_type": "stream",
          "text": [
            "Train on 7143 samples, validate on 1786 samples\n",
            "Epoch 1/20\n",
            "7143/7143 [==============================] - 1s 146us/step - loss: 0.5665 - acc: 0.7432 - f1_m: 0.7337 - precision_m: 0.7691 - recall_m: 0.7290 - val_loss: 0.3596 - val_acc: 0.8326 - val_f1_m: 0.8165 - val_precision_m: 0.8792 - val_recall_m: 0.7715\n",
            "Epoch 2/20\n",
            "7143/7143 [==============================] - 1s 124us/step - loss: 0.3838 - acc: 0.8380 - f1_m: 0.8325 - precision_m: 0.8409 - recall_m: 0.8346 - val_loss: 0.3207 - val_acc: 0.8723 - val_f1_m: 0.8726 - val_precision_m: 0.8544 - val_recall_m: 0.8983\n",
            "Epoch 3/20\n",
            "7143/7143 [==============================] - 1s 124us/step - loss: 0.3567 - acc: 0.8561 - f1_m: 0.8525 - precision_m: 0.8436 - recall_m: 0.8702 - val_loss: 0.2993 - val_acc: 0.8914 - val_f1_m: 0.8914 - val_precision_m: 0.8766 - val_recall_m: 0.9126\n",
            "Epoch 4/20\n",
            "7143/7143 [==============================] - 1s 128us/step - loss: 0.3407 - acc: 0.8632 - f1_m: 0.8624 - precision_m: 0.8534 - recall_m: 0.8798 - val_loss: 0.2848 - val_acc: 0.8947 - val_f1_m: 0.8953 - val_precision_m: 0.8758 - val_recall_m: 0.9213\n",
            "Epoch 5/20\n",
            "7143/7143 [==============================] - 1s 123us/step - loss: 0.3229 - acc: 0.8705 - f1_m: 0.8674 - precision_m: 0.8575 - recall_m: 0.8849 - val_loss: 0.2731 - val_acc: 0.9003 - val_f1_m: 0.9014 - val_precision_m: 0.8734 - val_recall_m: 0.9363\n",
            "Epoch 6/20\n",
            "7143/7143 [==============================] - 1s 122us/step - loss: 0.3131 - acc: 0.8768 - f1_m: 0.8752 - precision_m: 0.8637 - recall_m: 0.8943 - val_loss: 0.2621 - val_acc: 0.9009 - val_f1_m: 0.9031 - val_precision_m: 0.8721 - val_recall_m: 0.9418\n",
            "Epoch 7/20\n",
            "7143/7143 [==============================] - 1s 122us/step - loss: 0.2991 - acc: 0.8839 - f1_m: 0.8809 - precision_m: 0.8698 - recall_m: 0.8997 - val_loss: 0.2511 - val_acc: 0.9031 - val_f1_m: 0.9052 - val_precision_m: 0.8741 - val_recall_m: 0.9438\n",
            "Epoch 8/20\n",
            "7143/7143 [==============================] - 1s 125us/step - loss: 0.2883 - acc: 0.8876 - f1_m: 0.8873 - precision_m: 0.8718 - recall_m: 0.9100 - val_loss: 0.2417 - val_acc: 0.9121 - val_f1_m: 0.9134 - val_precision_m: 0.8891 - val_recall_m: 0.9446\n",
            "Epoch 9/20\n",
            "7143/7143 [==============================] - 1s 123us/step - loss: 0.2802 - acc: 0.8877 - f1_m: 0.8853 - precision_m: 0.8742 - recall_m: 0.9033 - val_loss: 0.2350 - val_acc: 0.9048 - val_f1_m: 0.9071 - val_precision_m: 0.8701 - val_recall_m: 0.9529\n",
            "Epoch 10/20\n",
            "7143/7143 [==============================] - 1s 122us/step - loss: 0.2696 - acc: 0.8921 - f1_m: 0.8917 - precision_m: 0.8750 - recall_m: 0.9153 - val_loss: 0.2256 - val_acc: 0.9205 - val_f1_m: 0.9215 - val_precision_m: 0.8990 - val_recall_m: 0.9496\n",
            "Epoch 11/20\n",
            "7143/7143 [==============================] - 1s 123us/step - loss: 0.2661 - acc: 0.8939 - f1_m: 0.8919 - precision_m: 0.8782 - recall_m: 0.9122 - val_loss: 0.2182 - val_acc: 0.9205 - val_f1_m: 0.9219 - val_precision_m: 0.9004 - val_recall_m: 0.9483\n",
            "Epoch 12/20\n",
            "7143/7143 [==============================] - 1s 120us/step - loss: 0.2546 - acc: 0.8957 - f1_m: 0.8937 - precision_m: 0.8817 - recall_m: 0.9120 - val_loss: 0.2091 - val_acc: 0.9255 - val_f1_m: 0.9270 - val_precision_m: 0.9082 - val_recall_m: 0.9504\n",
            "Epoch 13/20\n",
            "7143/7143 [==============================] - 1s 121us/step - loss: 0.2437 - acc: 0.8996 - f1_m: 0.8966 - precision_m: 0.8895 - recall_m: 0.9108 - val_loss: 0.2004 - val_acc: 0.9311 - val_f1_m: 0.9320 - val_precision_m: 0.9136 - val_recall_m: 0.9549\n",
            "Epoch 14/20\n",
            "7143/7143 [==============================] - 1s 123us/step - loss: 0.2380 - acc: 0.9014 - f1_m: 0.8984 - precision_m: 0.8935 - recall_m: 0.9090 - val_loss: 0.1958 - val_acc: 0.9272 - val_f1_m: 0.9292 - val_precision_m: 0.9039 - val_recall_m: 0.9594\n",
            "Epoch 15/20\n",
            "7143/7143 [==============================] - 1s 126us/step - loss: 0.2292 - acc: 0.9019 - f1_m: 0.8982 - precision_m: 0.8834 - recall_m: 0.9204 - val_loss: 0.1939 - val_acc: 0.9351 - val_f1_m: 0.9370 - val_precision_m: 0.9186 - val_recall_m: 0.9602\n",
            "Epoch 16/20\n",
            "7143/7143 [==============================] - 1s 128us/step - loss: 0.2265 - acc: 0.9082 - f1_m: 0.9065 - precision_m: 0.8981 - recall_m: 0.9215 - val_loss: 0.1854 - val_acc: 0.9412 - val_f1_m: 0.9427 - val_precision_m: 0.9275 - val_recall_m: 0.9617\n",
            "Epoch 17/20\n",
            "7143/7143 [==============================] - 1s 124us/step - loss: 0.2236 - acc: 0.9080 - f1_m: 0.9067 - precision_m: 0.8956 - recall_m: 0.9245 - val_loss: 0.1786 - val_acc: 0.9384 - val_f1_m: 0.9399 - val_precision_m: 0.9179 - val_recall_m: 0.9667\n",
            "Epoch 18/20\n",
            "7143/7143 [==============================] - 1s 122us/step - loss: 0.2152 - acc: 0.9084 - f1_m: 0.9047 - precision_m: 0.8974 - recall_m: 0.9178 - val_loss: 0.1739 - val_acc: 0.9395 - val_f1_m: 0.9396 - val_precision_m: 0.9306 - val_recall_m: 0.9514\n",
            "Epoch 19/20\n",
            "7143/7143 [==============================] - 1s 127us/step - loss: 0.2137 - acc: 0.9098 - f1_m: 0.9083 - precision_m: 0.8968 - recall_m: 0.9265 - val_loss: 0.1731 - val_acc: 0.9362 - val_f1_m: 0.9377 - val_precision_m: 0.9135 - val_recall_m: 0.9667\n",
            "Epoch 20/20\n",
            "7143/7143 [==============================] - 1s 123us/step - loss: 0.2099 - acc: 0.9124 - f1_m: 0.9112 - precision_m: 0.8989 - recall_m: 0.9296 - val_loss: 0.1674 - val_acc: 0.9356 - val_f1_m: 0.9366 - val_precision_m: 0.9130 - val_recall_m: 0.9645\n"
          ],
          "name": "stdout"
        }
      ]
    },
    {
      "cell_type": "code",
      "metadata": {
        "id": "2D4OVEiy8zF7",
        "colab_type": "code",
        "colab": {
          "base_uri": "https://localhost:8080/",
          "height": 54
        },
        "outputId": "583f79c7-34e1-49a9-ec4a-8c18e5e8d0d8"
      },
      "source": [
        "print(history.history.keys())"
      ],
      "execution_count": 63,
      "outputs": [
        {
          "output_type": "stream",
          "text": [
            "dict_keys(['val_loss', 'val_acc', 'val_f1_m', 'val_precision_m', 'val_recall_m', 'loss', 'acc', 'f1_m', 'precision_m', 'recall_m'])\n"
          ],
          "name": "stdout"
        }
      ]
    },
    {
      "cell_type": "code",
      "metadata": {
        "id": "p_Y4Mppd9kyp",
        "colab_type": "code",
        "colab": {
          "base_uri": "https://localhost:8080/",
          "height": 34
        },
        "outputId": "f88b68dc-e41e-41f8-e89e-698cb9b3b7f8"
      },
      "source": [
        "val_accuracy = history.history['val_acc']\n",
        "#print(val_accuracy)\n",
        "val_mean_acc = np.mean(val_accuracy)\n",
        "print(val_mean_acc)\n"
      ],
      "execution_count": 65,
      "outputs": [
        {
          "output_type": "stream",
          "text": [
            "0.9131578922271728\n"
          ],
          "name": "stdout"
        }
      ]
    },
    {
      "cell_type": "code",
      "metadata": {
        "id": "InuBqJql9nZQ",
        "colab_type": "code",
        "colab": {
          "base_uri": "https://localhost:8080/",
          "height": 54
        },
        "outputId": "4115493d-5751-4218-c728-155fe9109e17"
      },
      "source": [
        "loss, accuracy, f1_score, precision, recall = my_model.evaluate(X_train,Y_train, verbose=0)\n",
        "print(loss, accuracy, f1_score, precision, recall)\n"
      ],
      "execution_count": 67,
      "outputs": [
        {
          "output_type": "stream",
          "text": [
            "0.1662621651786826 0.9319072961807251 0.9277812242507935 0.9048671722412109 0.9561378359794617\n"
          ],
          "name": "stdout"
        }
      ]
    },
    {
      "cell_type": "code",
      "metadata": {
        "id": "Mb7JSKGC9vb_",
        "colab_type": "code",
        "colab": {
          "base_uri": "https://localhost:8080/",
          "height": 295
        },
        "outputId": "4888b95f-1018-4316-a191-3e51610531ea"
      },
      "source": [
        "#Plot model accuracy\n",
        "plt.plot(history.history['acc'])\n",
        "plt.plot(history.history['val_acc'])\n",
        "plt.title('Model Accuracy')\n",
        "plt.ylabel('Accuracy')\n",
        "plt.xlabel('Epoch')\n",
        "plt.legend(['Train','Test'], loc = 'upper left')\n",
        "plt.show()"
      ],
      "execution_count": 68,
      "outputs": [
        {
          "output_type": "display_data",
          "data": {
            "image/png": "[encoded data removed]",
            "text/plain": [
              "<Figure size 432x288 with 1 Axes>"
            ]
          },
          "metadata": {
            "tags": [],
            "needs_background": "light"
          }
        }
      ]
    },
    {
      "cell_type": "code",
      "metadata": {
        "id": "DrgSkqUW9zU7",
        "colab_type": "code",
        "colab": {
          "base_uri": "https://localhost:8080/",
          "height": 295
        },
        "outputId": "15081a4b-60c5-4512-f120-ec290e8cb73f"
      },
      "source": [
        "#plot model History\n",
        "plt.plot(history.history['loss'])\n",
        "plt.plot(history.history['val_loss'])\n",
        "plt.title('Model Loss')\n",
        "plt.ylabel('Loss')\n",
        "plt.xlabel('Epoch')\n",
        "plt.legend(['Train','Test'], loc = 'upper left')\n",
        "plt.show()"
      ],
      "execution_count": 69,
      "outputs": [
        {
          "output_type": "display_data",
          "data": {
            "image/png": "[encoded data removed]",
            "text/plain": [
              "<Figure size 432x288 with 1 Axes>"
            ]
          },
          "metadata": {
            "tags": [],
            "needs_background": "light"
          }
        }
      ]
    },
    {
      "cell_type": "code",
      "metadata": {
        "id": "eKZyXJOI92Mk",
        "colab_type": "code",
        "colab": {
          "base_uri": "https://localhost:8080/",
          "height": 50
        },
        "outputId": "ee3dd9bd-9957-4f6e-9c7c-6362c084e275"
      },
      "source": [
        "y_pred = my_model.predict(X_test)\n",
        "y_pred =(y_pred>0.5)\n",
        "list(y_pred)\n",
        "\n",
        "cm = confusion_matrix(Y_test, y_pred)\n",
        "print(cm)"
      ],
      "execution_count": 74,
      "outputs": [
        {
          "output_type": "stream",
          "text": [
            "[[ 982  106]\n",
            " [  53 1092]]\n"
          ],
          "name": "stdout"
        }
      ]
    },
    {
      "cell_type": "code",
      "metadata": {
        "id": "BCT2A1SG95L2",
        "colab_type": "code",
        "colab": {
          "base_uri": "https://localhost:8080/",
          "height": 118
        },
        "outputId": "178445bc-4074-4420-f214-12cdac13b16f"
      },
      "source": [
        "print(\"Accuracy\", accuracy *100)\n",
        "print(\"Loss\", loss*100)\n",
        "print(\"F1- score\", f1_score)\n",
        "print(\"Recall\", recall)\n",
        "print(\"Precision\", precision)\n",
        "print(\"Validation accuracy\", val_mean_acc)"
      ],
      "execution_count": 75,
      "outputs": [
        {
          "output_type": "stream",
          "text": [
            "Accuracy 93.19072961807251\n",
            "Loss 16.62621651786826\n",
            "F1- score 0.9277812242507935\n",
            "Recall 0.9561378359794617\n",
            "Precision 0.9048671722412109\n",
            "Validation accuracy 0.9131578922271728\n"
          ],
          "name": "stdout"
        }
      ]
    },
    {
      "cell_type": "code",
      "metadata": {
        "id": "h0TV_lHt97Vy",
        "colab_type": "code",
        "colab": {}
      },
      "source": [
        "my_model.save(\"my_model.h5\")"
      ],
      "execution_count": 0,
      "outputs": []
    },
    {
      "cell_type": "code",
      "metadata": {
        "id": "bCyBLqzM99aZ",
        "colab_type": "code",
        "colab": {}
      },
      "source": [
        ""
      ],
      "execution_count": 0,
      "outputs": []
    }
  ]
}