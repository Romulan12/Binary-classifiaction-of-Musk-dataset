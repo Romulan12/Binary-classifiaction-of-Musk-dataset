{
  "nbformat": 4,
  "nbformat_minor": 0,
  "metadata": {
    "colab": {
      "name": "Binary classification on Musk dataset.ipynb",
      "provenance": [],
      "collapsed_sections": [],
      "mount_file_id": "1Ge5XuylbNA-xs-z178Y-fEWJ4uaZ65n1",
      "authorship_tag": "ABX9TyN+jJvspfU2le3iIOVGHadb",
      "include_colab_link": true
    },
    "kernelspec": {
      "name": "python3",
      "display_name": "Python 3"
    },
    "accelerator": "GPU"
  },
  "cells": [
    {
      "cell_type": "markdown",
      "metadata": {
        "id": "view-in-github",
        "colab_type": "text"
      },
      "source": [
        "<a href=\"https://colab.research.google.com/github/Romulan12/Binary-classifiaction-of-Musk-dataset/blob/master/Binary_classification_on_Musk_dataset.ipynb\" target=\"_parent\"><img src=\"https://colab.research.google.com/assets/colab-badge.svg\" alt=\"Open In Colab\"/></a>"
      ]
    },
    {
      "cell_type": "markdown",
      "metadata": {
        "id": "HcXaBz_QyfpB",
        "colab_type": "text"
      },
      "source": [
        "Importing necessary libraries"
      ]
    },
    {
      "cell_type": "code",
      "metadata": {
        "id": "ftmwHUg0yUu3",
        "colab_type": "code",
        "colab": {}
      },
      "source": [
        "import numpy as np\n",
        "import tensorflow as tf\n",
        "import seaborn as sns\n",
        "import pandas as pd\n",
        "from sklearn.ensemble import ExtraTreesClassifier\n",
        "import matplotlib.pyplot as plt\n",
        "\n",
        "\n",
        "from sklearn.preprocessing import StandardScaler\n",
        "from sklearn.preprocessing import normalize\n",
        "from sklearn.metrics import confusion_matrix\n",
        "\n",
        "from sklearn.model_selection import train_test_split\n",
        "from keras import Sequential\n",
        "from keras.layers import Dense, Dropout\n",
        "from keras.optimizers import SGD\n",
        "from keras.utils import plot_model\n",
        "from keras import backend as K\n"
      ],
      "execution_count": 0,
      "outputs": []
    },
    {
      "cell_type": "markdown",
      "metadata": {
        "id": "PccpQ221yVlI",
        "colab_type": "text"
      },
      "source": [
        "Reading data\n"
      ]
    },
    {
      "cell_type": "code",
      "metadata": {
        "id": "6swTM2NoyKWy",
        "colab_type": "code",
        "colab": {}
      },
      "source": [
        "import pandas as pd\n",
        "data = pd.read_csv('/content/drive/My Drive/musk_csv.csv')"
      ],
      "execution_count": 0,
      "outputs": []
    },
    {
      "cell_type": "code",
      "metadata": {
        "id": "KiT7-Knoyjp1",
        "colab_type": "code",
        "outputId": "1864dc90-9aca-42a3-acff-a014878947ae",
        "colab": {
          "base_uri": "https://localhost:8080/",
          "height": 244
        }
      },
      "source": [
        "data.head()"
      ],
      "execution_count": 59,
      "outputs": [
        {
          "output_type": "execute_result",
          "data": {
            "text/html": [
              "<div>\n",
              "<style scoped>\n",
              "    .dataframe tbody tr th:only-of-type {\n",
              "        vertical-align: middle;\n",
              "    }\n",
              "\n",
              "    .dataframe tbody tr th {\n",
              "        vertical-align: top;\n",
              "    }\n",
              "\n",
              "    .dataframe thead th {\n",
              "        text-align: right;\n",
              "    }\n",
              "</style>\n",
              "<table border=\"1\" class=\"dataframe\">\n",
              "  <thead>\n",
              "    <tr style=\"text-align: right;\">\n",
              "      <th></th>\n",
              "      <th>ID</th>\n",
              "      <th>molecule_name</th>\n",
              "      <th>conformation_name</th>\n",
              "      <th>f1</th>\n",
              "      <th>f2</th>\n",
              "      <th>f3</th>\n",
              "      <th>f4</th>\n",
              "      <th>f5</th>\n",
              "      <th>f6</th>\n",
              "      <th>f7</th>\n",
              "      <th>f8</th>\n",
              "      <th>f9</th>\n",
              "      <th>f10</th>\n",
              "      <th>f11</th>\n",
              "      <th>f12</th>\n",
              "      <th>f13</th>\n",
              "      <th>f14</th>\n",
              "      <th>f15</th>\n",
              "      <th>f16</th>\n",
              "      <th>f17</th>\n",
              "      <th>f18</th>\n",
              "      <th>f19</th>\n",
              "      <th>f20</th>\n",
              "      <th>f21</th>\n",
              "      <th>f22</th>\n",
              "      <th>f23</th>\n",
              "      <th>f24</th>\n",
              "      <th>f25</th>\n",
              "      <th>f26</th>\n",
              "      <th>f27</th>\n",
              "      <th>f28</th>\n",
              "      <th>f29</th>\n",
              "      <th>f30</th>\n",
              "      <th>f31</th>\n",
              "      <th>f32</th>\n",
              "      <th>f33</th>\n",
              "      <th>f34</th>\n",
              "      <th>f35</th>\n",
              "      <th>f36</th>\n",
              "      <th>f37</th>\n",
              "      <th>...</th>\n",
              "      <th>f128</th>\n",
              "      <th>f129</th>\n",
              "      <th>f130</th>\n",
              "      <th>f131</th>\n",
              "      <th>f132</th>\n",
              "      <th>f133</th>\n",
              "      <th>f134</th>\n",
              "      <th>f135</th>\n",
              "      <th>f136</th>\n",
              "      <th>f137</th>\n",
              "      <th>f138</th>\n",
              "      <th>f139</th>\n",
              "      <th>f140</th>\n",
              "      <th>f141</th>\n",
              "      <th>f142</th>\n",
              "      <th>f143</th>\n",
              "      <th>f144</th>\n",
              "      <th>f145</th>\n",
              "      <th>f146</th>\n",
              "      <th>f147</th>\n",
              "      <th>f148</th>\n",
              "      <th>f149</th>\n",
              "      <th>f150</th>\n",
              "      <th>f151</th>\n",
              "      <th>f152</th>\n",
              "      <th>f153</th>\n",
              "      <th>f154</th>\n",
              "      <th>f155</th>\n",
              "      <th>f156</th>\n",
              "      <th>f157</th>\n",
              "      <th>f158</th>\n",
              "      <th>f159</th>\n",
              "      <th>f160</th>\n",
              "      <th>f161</th>\n",
              "      <th>f162</th>\n",
              "      <th>f163</th>\n",
              "      <th>f164</th>\n",
              "      <th>f165</th>\n",
              "      <th>f166</th>\n",
              "      <th>class</th>\n",
              "    </tr>\n",
              "  </thead>\n",
              "  <tbody>\n",
              "    <tr>\n",
              "      <th>0</th>\n",
              "      <td>1</td>\n",
              "      <td>MUSK-211</td>\n",
              "      <td>211_1+1</td>\n",
              "      <td>46</td>\n",
              "      <td>-108</td>\n",
              "      <td>-60</td>\n",
              "      <td>-69</td>\n",
              "      <td>-117</td>\n",
              "      <td>49</td>\n",
              "      <td>38</td>\n",
              "      <td>-161</td>\n",
              "      <td>-8</td>\n",
              "      <td>5</td>\n",
              "      <td>-323</td>\n",
              "      <td>-220</td>\n",
              "      <td>-113</td>\n",
              "      <td>-299</td>\n",
              "      <td>-283</td>\n",
              "      <td>-307</td>\n",
              "      <td>-31</td>\n",
              "      <td>-106</td>\n",
              "      <td>-227</td>\n",
              "      <td>-42</td>\n",
              "      <td>-59</td>\n",
              "      <td>-22</td>\n",
              "      <td>-67</td>\n",
              "      <td>189</td>\n",
              "      <td>81</td>\n",
              "      <td>17</td>\n",
              "      <td>-27</td>\n",
              "      <td>-89</td>\n",
              "      <td>-67</td>\n",
              "      <td>105</td>\n",
              "      <td>-116</td>\n",
              "      <td>124</td>\n",
              "      <td>-106</td>\n",
              "      <td>5</td>\n",
              "      <td>-120</td>\n",
              "      <td>63</td>\n",
              "      <td>-165</td>\n",
              "      <td>...</td>\n",
              "      <td>81</td>\n",
              "      <td>-114</td>\n",
              "      <td>-187</td>\n",
              "      <td>45</td>\n",
              "      <td>-118</td>\n",
              "      <td>-75</td>\n",
              "      <td>-182</td>\n",
              "      <td>-234</td>\n",
              "      <td>-19</td>\n",
              "      <td>12</td>\n",
              "      <td>-13</td>\n",
              "      <td>-41</td>\n",
              "      <td>-119</td>\n",
              "      <td>-149</td>\n",
              "      <td>70</td>\n",
              "      <td>17</td>\n",
              "      <td>-20</td>\n",
              "      <td>-177</td>\n",
              "      <td>-101</td>\n",
              "      <td>-116</td>\n",
              "      <td>-14</td>\n",
              "      <td>-50</td>\n",
              "      <td>24</td>\n",
              "      <td>-81</td>\n",
              "      <td>-125</td>\n",
              "      <td>-114</td>\n",
              "      <td>-44</td>\n",
              "      <td>128</td>\n",
              "      <td>3</td>\n",
              "      <td>-244</td>\n",
              "      <td>-308</td>\n",
              "      <td>52</td>\n",
              "      <td>-7</td>\n",
              "      <td>39</td>\n",
              "      <td>126</td>\n",
              "      <td>156</td>\n",
              "      <td>-50</td>\n",
              "      <td>-112</td>\n",
              "      <td>96</td>\n",
              "      <td>1</td>\n",
              "    </tr>\n",
              "    <tr>\n",
              "      <th>1</th>\n",
              "      <td>2</td>\n",
              "      <td>MUSK-211</td>\n",
              "      <td>211_1+10</td>\n",
              "      <td>41</td>\n",
              "      <td>-188</td>\n",
              "      <td>-145</td>\n",
              "      <td>22</td>\n",
              "      <td>-117</td>\n",
              "      <td>-6</td>\n",
              "      <td>57</td>\n",
              "      <td>-171</td>\n",
              "      <td>-39</td>\n",
              "      <td>-100</td>\n",
              "      <td>-319</td>\n",
              "      <td>-111</td>\n",
              "      <td>-228</td>\n",
              "      <td>-281</td>\n",
              "      <td>-281</td>\n",
              "      <td>-300</td>\n",
              "      <td>54</td>\n",
              "      <td>-149</td>\n",
              "      <td>-98</td>\n",
              "      <td>-196</td>\n",
              "      <td>-27</td>\n",
              "      <td>-22</td>\n",
              "      <td>2</td>\n",
              "      <td>75</td>\n",
              "      <td>49</td>\n",
              "      <td>-34</td>\n",
              "      <td>45</td>\n",
              "      <td>-91</td>\n",
              "      <td>32</td>\n",
              "      <td>95</td>\n",
              "      <td>-116</td>\n",
              "      <td>85</td>\n",
              "      <td>-23</td>\n",
              "      <td>42</td>\n",
              "      <td>-58</td>\n",
              "      <td>61</td>\n",
              "      <td>-171</td>\n",
              "      <td>...</td>\n",
              "      <td>88</td>\n",
              "      <td>-21</td>\n",
              "      <td>-32</td>\n",
              "      <td>32</td>\n",
              "      <td>-128</td>\n",
              "      <td>-72</td>\n",
              "      <td>-124</td>\n",
              "      <td>-218</td>\n",
              "      <td>-94</td>\n",
              "      <td>53</td>\n",
              "      <td>-79</td>\n",
              "      <td>-20</td>\n",
              "      <td>-35</td>\n",
              "      <td>-26</td>\n",
              "      <td>4</td>\n",
              "      <td>50</td>\n",
              "      <td>17</td>\n",
              "      <td>-177</td>\n",
              "      <td>-102</td>\n",
              "      <td>-121</td>\n",
              "      <td>-66</td>\n",
              "      <td>-77</td>\n",
              "      <td>51</td>\n",
              "      <td>-41</td>\n",
              "      <td>-34</td>\n",
              "      <td>-32</td>\n",
              "      <td>-63</td>\n",
              "      <td>115</td>\n",
              "      <td>-5</td>\n",
              "      <td>-235</td>\n",
              "      <td>-59</td>\n",
              "      <td>-2</td>\n",
              "      <td>52</td>\n",
              "      <td>103</td>\n",
              "      <td>136</td>\n",
              "      <td>169</td>\n",
              "      <td>-61</td>\n",
              "      <td>-136</td>\n",
              "      <td>79</td>\n",
              "      <td>1</td>\n",
              "    </tr>\n",
              "    <tr>\n",
              "      <th>2</th>\n",
              "      <td>3</td>\n",
              "      <td>MUSK-211</td>\n",
              "      <td>211_1+11</td>\n",
              "      <td>46</td>\n",
              "      <td>-194</td>\n",
              "      <td>-145</td>\n",
              "      <td>28</td>\n",
              "      <td>-117</td>\n",
              "      <td>73</td>\n",
              "      <td>57</td>\n",
              "      <td>-168</td>\n",
              "      <td>-39</td>\n",
              "      <td>-22</td>\n",
              "      <td>-319</td>\n",
              "      <td>-111</td>\n",
              "      <td>-104</td>\n",
              "      <td>-283</td>\n",
              "      <td>-282</td>\n",
              "      <td>-303</td>\n",
              "      <td>52</td>\n",
              "      <td>-152</td>\n",
              "      <td>-97</td>\n",
              "      <td>-225</td>\n",
              "      <td>-28</td>\n",
              "      <td>-22</td>\n",
              "      <td>2</td>\n",
              "      <td>179</td>\n",
              "      <td>49</td>\n",
              "      <td>-33</td>\n",
              "      <td>46</td>\n",
              "      <td>-88</td>\n",
              "      <td>22</td>\n",
              "      <td>79</td>\n",
              "      <td>-116</td>\n",
              "      <td>19</td>\n",
              "      <td>-11</td>\n",
              "      <td>6</td>\n",
              "      <td>-38</td>\n",
              "      <td>71</td>\n",
              "      <td>-175</td>\n",
              "      <td>...</td>\n",
              "      <td>64</td>\n",
              "      <td>0</td>\n",
              "      <td>-23</td>\n",
              "      <td>-15</td>\n",
              "      <td>-129</td>\n",
              "      <td>-74</td>\n",
              "      <td>-125</td>\n",
              "      <td>-221</td>\n",
              "      <td>-93</td>\n",
              "      <td>53</td>\n",
              "      <td>-72</td>\n",
              "      <td>-19</td>\n",
              "      <td>-33</td>\n",
              "      <td>-26</td>\n",
              "      <td>3</td>\n",
              "      <td>49</td>\n",
              "      <td>17</td>\n",
              "      <td>-177</td>\n",
              "      <td>-102</td>\n",
              "      <td>-119</td>\n",
              "      <td>-66</td>\n",
              "      <td>-81</td>\n",
              "      <td>51</td>\n",
              "      <td>-41</td>\n",
              "      <td>-27</td>\n",
              "      <td>-41</td>\n",
              "      <td>-140</td>\n",
              "      <td>77</td>\n",
              "      <td>-163</td>\n",
              "      <td>-238</td>\n",
              "      <td>-134</td>\n",
              "      <td>-154</td>\n",
              "      <td>57</td>\n",
              "      <td>143</td>\n",
              "      <td>142</td>\n",
              "      <td>165</td>\n",
              "      <td>-67</td>\n",
              "      <td>-145</td>\n",
              "      <td>39</td>\n",
              "      <td>1</td>\n",
              "    </tr>\n",
              "    <tr>\n",
              "      <th>3</th>\n",
              "      <td>4</td>\n",
              "      <td>MUSK-211</td>\n",
              "      <td>211_1+12</td>\n",
              "      <td>41</td>\n",
              "      <td>-188</td>\n",
              "      <td>-145</td>\n",
              "      <td>22</td>\n",
              "      <td>-117</td>\n",
              "      <td>-7</td>\n",
              "      <td>57</td>\n",
              "      <td>-170</td>\n",
              "      <td>-39</td>\n",
              "      <td>-99</td>\n",
              "      <td>-319</td>\n",
              "      <td>-111</td>\n",
              "      <td>-228</td>\n",
              "      <td>-282</td>\n",
              "      <td>-281</td>\n",
              "      <td>-301</td>\n",
              "      <td>54</td>\n",
              "      <td>-150</td>\n",
              "      <td>-98</td>\n",
              "      <td>-196</td>\n",
              "      <td>-28</td>\n",
              "      <td>-22</td>\n",
              "      <td>2</td>\n",
              "      <td>77</td>\n",
              "      <td>48</td>\n",
              "      <td>-34</td>\n",
              "      <td>46</td>\n",
              "      <td>-91</td>\n",
              "      <td>32</td>\n",
              "      <td>94</td>\n",
              "      <td>-116</td>\n",
              "      <td>84</td>\n",
              "      <td>-23</td>\n",
              "      <td>41</td>\n",
              "      <td>-58</td>\n",
              "      <td>62</td>\n",
              "      <td>-171</td>\n",
              "      <td>...</td>\n",
              "      <td>88</td>\n",
              "      <td>-20</td>\n",
              "      <td>-32</td>\n",
              "      <td>32</td>\n",
              "      <td>-128</td>\n",
              "      <td>-73</td>\n",
              "      <td>-125</td>\n",
              "      <td>-220</td>\n",
              "      <td>-93</td>\n",
              "      <td>53</td>\n",
              "      <td>-78</td>\n",
              "      <td>-19</td>\n",
              "      <td>-34</td>\n",
              "      <td>-26</td>\n",
              "      <td>4</td>\n",
              "      <td>50</td>\n",
              "      <td>17</td>\n",
              "      <td>-177</td>\n",
              "      <td>-101</td>\n",
              "      <td>-121</td>\n",
              "      <td>-65</td>\n",
              "      <td>-77</td>\n",
              "      <td>52</td>\n",
              "      <td>-41</td>\n",
              "      <td>-34</td>\n",
              "      <td>-32</td>\n",
              "      <td>-66</td>\n",
              "      <td>115</td>\n",
              "      <td>-7</td>\n",
              "      <td>-236</td>\n",
              "      <td>-60</td>\n",
              "      <td>-4</td>\n",
              "      <td>52</td>\n",
              "      <td>104</td>\n",
              "      <td>136</td>\n",
              "      <td>168</td>\n",
              "      <td>-60</td>\n",
              "      <td>-135</td>\n",
              "      <td>80</td>\n",
              "      <td>1</td>\n",
              "    </tr>\n",
              "    <tr>\n",
              "      <th>4</th>\n",
              "      <td>5</td>\n",
              "      <td>MUSK-211</td>\n",
              "      <td>211_1+13</td>\n",
              "      <td>41</td>\n",
              "      <td>-188</td>\n",
              "      <td>-145</td>\n",
              "      <td>22</td>\n",
              "      <td>-117</td>\n",
              "      <td>-7</td>\n",
              "      <td>57</td>\n",
              "      <td>-170</td>\n",
              "      <td>-39</td>\n",
              "      <td>-99</td>\n",
              "      <td>-319</td>\n",
              "      <td>-111</td>\n",
              "      <td>-228</td>\n",
              "      <td>-282</td>\n",
              "      <td>-281</td>\n",
              "      <td>-301</td>\n",
              "      <td>54</td>\n",
              "      <td>-150</td>\n",
              "      <td>-98</td>\n",
              "      <td>-196</td>\n",
              "      <td>-28</td>\n",
              "      <td>-22</td>\n",
              "      <td>2</td>\n",
              "      <td>78</td>\n",
              "      <td>48</td>\n",
              "      <td>-34</td>\n",
              "      <td>46</td>\n",
              "      <td>-91</td>\n",
              "      <td>31</td>\n",
              "      <td>94</td>\n",
              "      <td>-116</td>\n",
              "      <td>84</td>\n",
              "      <td>-23</td>\n",
              "      <td>41</td>\n",
              "      <td>-58</td>\n",
              "      <td>62</td>\n",
              "      <td>-171</td>\n",
              "      <td>...</td>\n",
              "      <td>88</td>\n",
              "      <td>-20</td>\n",
              "      <td>-32</td>\n",
              "      <td>32</td>\n",
              "      <td>-128</td>\n",
              "      <td>-73</td>\n",
              "      <td>-125</td>\n",
              "      <td>-220</td>\n",
              "      <td>-93</td>\n",
              "      <td>53</td>\n",
              "      <td>-78</td>\n",
              "      <td>-19</td>\n",
              "      <td>-34</td>\n",
              "      <td>-26</td>\n",
              "      <td>4</td>\n",
              "      <td>50</td>\n",
              "      <td>17</td>\n",
              "      <td>-177</td>\n",
              "      <td>-101</td>\n",
              "      <td>-121</td>\n",
              "      <td>-65</td>\n",
              "      <td>-76</td>\n",
              "      <td>52</td>\n",
              "      <td>-41</td>\n",
              "      <td>-34</td>\n",
              "      <td>-32</td>\n",
              "      <td>-66</td>\n",
              "      <td>115</td>\n",
              "      <td>-8</td>\n",
              "      <td>-236</td>\n",
              "      <td>-60</td>\n",
              "      <td>-4</td>\n",
              "      <td>52</td>\n",
              "      <td>104</td>\n",
              "      <td>137</td>\n",
              "      <td>168</td>\n",
              "      <td>-60</td>\n",
              "      <td>-135</td>\n",
              "      <td>80</td>\n",
              "      <td>1</td>\n",
              "    </tr>\n",
              "  </tbody>\n",
              "</table>\n",
              "<p>5 rows × 170 columns</p>\n",
              "</div>"
            ],
            "text/plain": [
              "   ID molecule_name conformation_name  f1   f2  ...  f163  f164  f165  f166  class\n",
              "0   1      MUSK-211           211_1+1  46 -108  ...   156   -50  -112    96      1\n",
              "1   2      MUSK-211          211_1+10  41 -188  ...   169   -61  -136    79      1\n",
              "2   3      MUSK-211          211_1+11  46 -194  ...   165   -67  -145    39      1\n",
              "3   4      MUSK-211          211_1+12  41 -188  ...   168   -60  -135    80      1\n",
              "4   5      MUSK-211          211_1+13  41 -188  ...   168   -60  -135    80      1\n",
              "\n",
              "[5 rows x 170 columns]"
            ]
          },
          "metadata": {
            "tags": []
          },
          "execution_count": 59
        }
      ]
    },
    {
      "cell_type": "code",
      "metadata": {
        "id": "2SoV8397yk4r",
        "colab_type": "code",
        "outputId": "0ead2b20-5e40-4a91-99e9-a937632d87e5",
        "colab": {
          "base_uri": "https://localhost:8080/",
          "height": 34
        }
      },
      "source": [
        "data.shape"
      ],
      "execution_count": 60,
      "outputs": [
        {
          "output_type": "execute_result",
          "data": {
            "text/plain": [
              "(6598, 170)"
            ]
          },
          "metadata": {
            "tags": []
          },
          "execution_count": 60
        }
      ]
    },
    {
      "cell_type": "code",
      "metadata": {
        "id": "4BZkhvNcyl9A",
        "colab_type": "code",
        "colab": {}
      },
      "source": [
        "df = data"
      ],
      "execution_count": 0,
      "outputs": []
    },
    {
      "cell_type": "markdown",
      "metadata": {
        "id": "QnsDTjckypGo",
        "colab_type": "text"
      },
      "source": [
        "Handling non-numerical data"
      ]
    },
    {
      "cell_type": "code",
      "metadata": {
        "id": "4pqZItOryoDN",
        "colab_type": "code",
        "colab": {}
      },
      "source": [
        "def handle_non_numerical_data(df):\n",
        "    columns = df.columns.values\n",
        "    for column in columns:\n",
        "        text_digit_vals = {}\n",
        "        def convert_to_int(val):\n",
        "            return text_digit_vals[val]\n",
        "\n",
        "        if df[column].dtype != np.int64 and df[column].dtype != np.float64:\n",
        "            column_contents = df[column].values.tolist()\n",
        "            unique_elements = set(column_contents)\n",
        "            x = 0\n",
        "            for unique in unique_elements:\n",
        "                if unique not in text_digit_vals:\n",
        "                    text_digit_vals[unique] = x\n",
        "                    x+=1\n",
        "\n",
        "            df[column] = list(map(convert_to_int, df[column]))\n",
        "\n",
        "    return df"
      ],
      "execution_count": 0,
      "outputs": []
    },
    {
      "cell_type": "code",
      "metadata": {
        "id": "s6Snwc9eynR9",
        "colab_type": "code",
        "outputId": "44a5e67b-442a-4bf8-abe1-9554d5de0116",
        "colab": {
          "base_uri": "https://localhost:8080/",
          "height": 403
        }
      },
      "source": [
        "df = handle_non_numerical_data(df)\n",
        "print(df.head(20))"
      ],
      "execution_count": 63,
      "outputs": [
        {
          "output_type": "stream",
          "text": [
            "    ID  molecule_name  conformation_name  f1  ...  f164  f165  f166  class\n",
            "0    1             84               5966  46  ...   -50  -112    96      1\n",
            "1    2             84               4121  41  ...   -61  -136    79      1\n",
            "2    3             84               5649  46  ...   -67  -145    39      1\n",
            "3    4             84               6019  41  ...   -60  -135    80      1\n",
            "4    5             84               4955  41  ...   -60  -135    80      1\n",
            "5    6             84               5473  46  ...   -67  -145    40      1\n",
            "6    7             84               5352  47  ...   -68  -145    37      1\n",
            "7    8             84               6231  41  ...   -60  -135    81      1\n",
            "8    9             84               2361  41  ...   -60  -135    81      1\n",
            "9   10             84               5002  47  ...   -68  -146    37      1\n",
            "10  11             84               3713  41  ...   -60  -135    81      1\n",
            "11  12             84                356  44  ...   -65  -132    14      1\n",
            "12  13             84               5834  44  ...   -64  -131    14      1\n",
            "13  14             84               6428  44  ...   -64  -131    15      1\n",
            "14  15             84                854  46  ...   -50  -114    96      1\n",
            "15  16             84               1248  44  ...   -65  -132    14      1\n",
            "16  17             84               1965  44  ...   -65  -133    14      1\n",
            "17  18             84               4570  46  ...   -50  -113    97      1\n",
            "18  19             84               1790  46  ...   -50  -113    97      1\n",
            "19  20             29               3144  33  ...   -60  -132    58      1\n",
            "\n",
            "[20 rows x 170 columns]\n"
          ],
          "name": "stdout"
        }
      ]
    },
    {
      "cell_type": "markdown",
      "metadata": {
        "id": "PHD1igkTzZLY",
        "colab_type": "text"
      },
      "source": [
        "Extracting important features"
      ]
    },
    {
      "cell_type": "code",
      "metadata": {
        "id": "ueTQlryDytka",
        "colab_type": "code",
        "outputId": "6245c0ca-3e47-4a3e-923f-e5503d8ccdc8",
        "colab": {
          "base_uri": "https://localhost:8080/",
          "height": 282
        }
      },
      "source": [
        "X = df.iloc[:,0:169]  #independent columns\n",
        "y = df.iloc[:,-1]    #target column i.e class\n",
        "\n",
        "model = ExtraTreesClassifier()\n",
        "model.fit(X,y)\n",
        "\n",
        "#plot graph of feature importances for better visualization\n",
        "feat_importances = pd.Series(model.feature_importances_, index=X.columns) #use inbuilt class feature_importances of tree based classifiers\n",
        "feat_importances.nlargest(20).plot(kind='barh')\n",
        "\n",
        "plt.figure(figsize= (200,100))\n",
        "plt.show()"
      ],
      "execution_count": 64,
      "outputs": [
        {
          "output_type": "display_data",
          "data": {
            "image/png": "[encoded data removed]",
            "text/plain": [
              "<Figure size 432x288 with 1 Axes>"
            ]
          },
          "metadata": {
            "tags": [],
            "needs_background": "light"
          }
        },
        {
          "output_type": "display_data",
          "data": {
            "text/plain": [
              "<Figure size 14400x7200 with 0 Axes>"
            ]
          },
          "metadata": {
            "tags": []
          }
        }
      ]
    },
    {
      "cell_type": "code",
      "metadata": {
        "id": "E0QbfX1xzsPI",
        "colab_type": "code",
        "outputId": "d55fea68-0ca8-493a-dc2e-093f46150097",
        "colab": {
          "base_uri": "https://localhost:8080/",
          "height": 874
        }
      },
      "source": [
        "print(feat_importances.nlargest(50))"
      ],
      "execution_count": 65,
      "outputs": [
        {
          "output_type": "stream",
          "text": [
            "ID               0.178764\n",
            "molecule_name    0.036613\n",
            "f36              0.021637\n",
            "f92              0.014735\n",
            "f66              0.014212\n",
            "f162             0.012803\n",
            "f1               0.011515\n",
            "f124             0.011366\n",
            "f132             0.011162\n",
            "f95              0.009647\n",
            "f102             0.009246\n",
            "f96              0.009140\n",
            "f164             0.009039\n",
            "f163             0.009023\n",
            "f91              0.008336\n",
            "f44              0.008226\n",
            "f110             0.008183\n",
            "f165             0.008078\n",
            "f126             0.008027\n",
            "f41              0.007994\n",
            "f72              0.007708\n",
            "f15              0.007674\n",
            "f31              0.007493\n",
            "f125             0.007414\n",
            "f156             0.007055\n",
            "f32              0.007033\n",
            "f151             0.006801\n",
            "f160             0.006739\n",
            "f138             0.006610\n",
            "f14              0.006516\n",
            "f69              0.006335\n",
            "f45              0.006296\n",
            "f166             0.006246\n",
            "f155             0.006131\n",
            "f42              0.006102\n",
            "f154             0.006064\n",
            "f99              0.005960\n",
            "f4               0.005821\n",
            "f109             0.005805\n",
            "f114             0.005771\n",
            "f39              0.005448\n",
            "f83              0.005340\n",
            "f89              0.005278\n",
            "f101             0.005233\n",
            "f105             0.005093\n",
            "f152             0.005088\n",
            "f68              0.005064\n",
            "f161             0.004989\n",
            "f25              0.004985\n",
            "f144             0.004984\n",
            "dtype: float64\n"
          ],
          "name": "stdout"
        }
      ]
    },
    {
      "cell_type": "markdown",
      "metadata": {
        "id": "hXUVzvEnzzaT",
        "colab_type": "text"
      },
      "source": [
        "PREPROCESS THE DATA"
      ]
    },
    {
      "cell_type": "code",
      "metadata": {
        "id": "RbMKicX9zvOI",
        "colab_type": "code",
        "outputId": "cb0a533c-7655-4c8b-edda-f0073ac68301",
        "colab": {
          "base_uri": "https://localhost:8080/",
          "height": 312
        }
      },
      "source": [
        "#plot the dataset frequency\n",
        "labels = ['non-musk', 'musk']\n",
        "classes = pd.value_counts(data['class'],sort = True)\n",
        "classes.plot(kind = 'bar', rot = 0)\n",
        "plt.title(\"class distribution \")\n",
        "plt.xticks(range(2), labels )\n",
        "plt.xlabel(\"Class\")\n",
        "plt.ylabel(\"Frequency\")"
      ],
      "execution_count": 66,
      "outputs": [
        {
          "output_type": "execute_result",
          "data": {
            "text/plain": [
              "Text(0, 0.5, 'Frequency')"
            ]
          },
          "metadata": {
            "tags": []
          },
          "execution_count": 66
        },
        {
          "output_type": "display_data",
          "data": {
            "image/png": "[encoded data removed]",
            "text/plain": [
              "<Figure size 432x288 with 1 Axes>"
            ]
          },
          "metadata": {
            "tags": [],
            "needs_background": "light"
          }
        }
      ]
    },
    {
      "cell_type": "markdown",
      "metadata": {
        "id": "oi9Ps5eFz3sK",
        "colab_type": "text"
      },
      "source": [
        "Data Resampling"
      ]
    },
    {
      "cell_type": "code",
      "metadata": {
        "id": "DrRv7mWrzyWq",
        "colab_type": "code",
        "colab": {}
      },
      "source": [
        "# Class count\n",
        "count_class_0, count_class_1 = data['class'].value_counts()\n",
        "\n",
        "# Divide by class\n",
        "df_class_0 = data[data['class'] == 0]\n",
        "df_class_1 = data[data['class'] == 1]"
      ],
      "execution_count": 0,
      "outputs": []
    },
    {
      "cell_type": "markdown",
      "metadata": {
        "id": "YVp-_n7Rz9pn",
        "colab_type": "text"
      },
      "source": [
        "Data over-sampling"
      ]
    },
    {
      "cell_type": "code",
      "metadata": {
        "id": "oEP0FoXKz8-n",
        "colab_type": "code",
        "outputId": "b2e77cf7-7049-49db-d809-82e9be78f8cc",
        "colab": {
          "base_uri": "https://localhost:8080/",
          "height": 346
        }
      },
      "source": [
        "df_class_1_over = df_class_1.sample(count_class_0, replace=True)\n",
        "df_test_over = pd.concat([df_class_0, df_class_1_over], axis=0)\n",
        "\n",
        "print('Random over-sampling:')\n",
        "print(df_test_over['class'].value_counts())\n",
        "\n",
        "df_test_over['class'].value_counts().plot(kind='bar', title='Count (class)');"
      ],
      "execution_count": 68,
      "outputs": [
        {
          "output_type": "stream",
          "text": [
            "Random over-sampling:\n",
            "1    5581\n",
            "0    5581\n",
            "Name: class, dtype: int64\n"
          ],
          "name": "stdout"
        },
        {
          "output_type": "display_data",
          "data": {
            "image/png": "[encoded data removed]",
            "text/plain": [
              "<Figure size 432x288 with 1 Axes>"
            ]
          },
          "metadata": {
            "tags": [],
            "needs_background": "light"
          }
        }
      ]
    },
    {
      "cell_type": "code",
      "metadata": {
        "id": "AJZJD0XA0EBX",
        "colab_type": "code",
        "outputId": "466edef4-ce65-4d50-bd41-646b1eeb4875",
        "colab": {
          "base_uri": "https://localhost:8080/",
          "height": 34
        }
      },
      "source": [
        "df_test_over.shape"
      ],
      "execution_count": 69,
      "outputs": [
        {
          "output_type": "execute_result",
          "data": {
            "text/plain": [
              "(11162, 170)"
            ]
          },
          "metadata": {
            "tags": []
          },
          "execution_count": 69
        }
      ]
    },
    {
      "cell_type": "markdown",
      "metadata": {
        "id": "rIyu_plO0K-Z",
        "colab_type": "text"
      },
      "source": [
        "Careating a new dataframe without ID column and the 49 most important features"
      ]
    },
    {
      "cell_type": "code",
      "metadata": {
        "id": "MlHIM_Ut0KLj",
        "colab_type": "code",
        "colab": {}
      },
      "source": [
        "new_df = df_test_over[['molecule_name','f36','f92','f66', 'f1','f126','f162','f132','f163','f99', \n",
        "'f125', 'f96' ,'f95', 'f124' ,'f102'  ,'f104'  ,'f71' ,       \n",
        "     'f15',      \n",
        "'f165',            \n",
        "'f80'  ,            \n",
        "'f72'   ,           \n",
        "'f105'   ,          \n",
        "'f91'     ,         \n",
        "'f160'     ,        \n",
        "'f151'      ,       \n",
        "'f69'        ,      \n",
        "'f11'      ,        \n",
        "'f41'       ,       \n",
        "'f138'       ,      \n",
        "'f3'         ,     \n",
        "'f154'         ,    \n",
        "'f103'          ,   \n",
        "'f108'           ,  \n",
        "'f161'           , \n",
        "'f166'             ,\n",
        "'f25'      ,\n",
        "'f4'       ,\n",
        "'f140'      ,  \n",
        "'f153'       ,  \n",
        "'f110'        ,  \n",
        "'f152'         ,  \n",
        "'f65'           ,\n",
        "'f123'           ,  \n",
        "'f44'          ,\n",
        "'f22'          ,\n",
        "'f86'          ,\n",
        "'f130',\n",
        "'f164',  \n",
        "'f42',\n",
        "'class']].copy()"
      ],
      "execution_count": 0,
      "outputs": []
    },
    {
      "cell_type": "code",
      "metadata": {
        "id": "sstmUOki0HLo",
        "colab_type": "code",
        "outputId": "c60dcbd9-bcbf-4e38-b1f4-4bddf0840899",
        "colab": {
          "base_uri": "https://localhost:8080/",
          "height": 34
        }
      },
      "source": [
        "new_df.head(20)\n",
        "print(new_df.shape)"
      ],
      "execution_count": 71,
      "outputs": [
        {
          "output_type": "stream",
          "text": [
            "(11162, 50)\n"
          ],
          "name": "stdout"
        }
      ]
    },
    {
      "cell_type": "code",
      "metadata": {
        "id": "M6jgq6ds3e8v",
        "colab_type": "code",
        "outputId": "d2995d62-63d1-4141-a595-490546693aab",
        "colab": {
          "base_uri": "https://localhost:8080/",
          "height": 126
        }
      },
      "source": [
        "X = new_df.iloc[:,0:49]\n",
        "Y = new_df.iloc[:,-1]\n",
        "X.head(2)"
      ],
      "execution_count": 72,
      "outputs": [
        {
          "output_type": "execute_result",
          "data": {
            "text/html": [
              "<div>\n",
              "<style scoped>\n",
              "    .dataframe tbody tr th:only-of-type {\n",
              "        vertical-align: middle;\n",
              "    }\n",
              "\n",
              "    .dataframe tbody tr th {\n",
              "        vertical-align: top;\n",
              "    }\n",
              "\n",
              "    .dataframe thead th {\n",
              "        text-align: right;\n",
              "    }\n",
              "</style>\n",
              "<table border=\"1\" class=\"dataframe\">\n",
              "  <thead>\n",
              "    <tr style=\"text-align: right;\">\n",
              "      <th></th>\n",
              "      <th>molecule_name</th>\n",
              "      <th>f36</th>\n",
              "      <th>f92</th>\n",
              "      <th>f66</th>\n",
              "      <th>f1</th>\n",
              "      <th>f126</th>\n",
              "      <th>f162</th>\n",
              "      <th>f132</th>\n",
              "      <th>f163</th>\n",
              "      <th>f99</th>\n",
              "      <th>f125</th>\n",
              "      <th>f96</th>\n",
              "      <th>f95</th>\n",
              "      <th>f124</th>\n",
              "      <th>f102</th>\n",
              "      <th>f104</th>\n",
              "      <th>f71</th>\n",
              "      <th>f15</th>\n",
              "      <th>f165</th>\n",
              "      <th>f80</th>\n",
              "      <th>f72</th>\n",
              "      <th>f105</th>\n",
              "      <th>f91</th>\n",
              "      <th>f160</th>\n",
              "      <th>f151</th>\n",
              "      <th>f69</th>\n",
              "      <th>f11</th>\n",
              "      <th>f41</th>\n",
              "      <th>f138</th>\n",
              "      <th>f3</th>\n",
              "      <th>f154</th>\n",
              "      <th>f103</th>\n",
              "      <th>f108</th>\n",
              "      <th>f161</th>\n",
              "      <th>f166</th>\n",
              "      <th>f25</th>\n",
              "      <th>f4</th>\n",
              "      <th>f140</th>\n",
              "      <th>f153</th>\n",
              "      <th>f110</th>\n",
              "      <th>f152</th>\n",
              "      <th>f65</th>\n",
              "      <th>f123</th>\n",
              "      <th>f44</th>\n",
              "      <th>f22</th>\n",
              "      <th>f86</th>\n",
              "      <th>f130</th>\n",
              "      <th>f164</th>\n",
              "      <th>f42</th>\n",
              "    </tr>\n",
              "  </thead>\n",
              "  <tbody>\n",
              "    <tr>\n",
              "      <th>1017</th>\n",
              "      <td>0</td>\n",
              "      <td>211</td>\n",
              "      <td>166</td>\n",
              "      <td>179</td>\n",
              "      <td>114</td>\n",
              "      <td>6</td>\n",
              "      <td>290</td>\n",
              "      <td>-138</td>\n",
              "      <td>143</td>\n",
              "      <td>-156</td>\n",
              "      <td>96</td>\n",
              "      <td>-55</td>\n",
              "      <td>30</td>\n",
              "      <td>-108</td>\n",
              "      <td>266</td>\n",
              "      <td>-284</td>\n",
              "      <td>-139</td>\n",
              "      <td>-284</td>\n",
              "      <td>-117</td>\n",
              "      <td>-166</td>\n",
              "      <td>-82</td>\n",
              "      <td>-292</td>\n",
              "      <td>114</td>\n",
              "      <td>34</td>\n",
              "      <td>-62</td>\n",
              "      <td>-118</td>\n",
              "      <td>-293</td>\n",
              "      <td>-93</td>\n",
              "      <td>-70</td>\n",
              "      <td>-144</td>\n",
              "      <td>83</td>\n",
              "      <td>-257</td>\n",
              "      <td>-120</td>\n",
              "      <td>254</td>\n",
              "      <td>60</td>\n",
              "      <td>111</td>\n",
              "      <td>-77</td>\n",
              "      <td>-33</td>\n",
              "      <td>-113</td>\n",
              "      <td>-248</td>\n",
              "      <td>-122</td>\n",
              "      <td>-146</td>\n",
              "      <td>130</td>\n",
              "      <td>-297</td>\n",
              "      <td>-22</td>\n",
              "      <td>23</td>\n",
              "      <td>-188</td>\n",
              "      <td>-58</td>\n",
              "      <td>161</td>\n",
              "    </tr>\n",
              "    <tr>\n",
              "      <th>1018</th>\n",
              "      <td>0</td>\n",
              "      <td>212</td>\n",
              "      <td>163</td>\n",
              "      <td>179</td>\n",
              "      <td>112</td>\n",
              "      <td>6</td>\n",
              "      <td>290</td>\n",
              "      <td>-138</td>\n",
              "      <td>143</td>\n",
              "      <td>-156</td>\n",
              "      <td>94</td>\n",
              "      <td>-54</td>\n",
              "      <td>30</td>\n",
              "      <td>-108</td>\n",
              "      <td>264</td>\n",
              "      <td>-284</td>\n",
              "      <td>-138</td>\n",
              "      <td>-284</td>\n",
              "      <td>-117</td>\n",
              "      <td>-165</td>\n",
              "      <td>-77</td>\n",
              "      <td>-292</td>\n",
              "      <td>111</td>\n",
              "      <td>36</td>\n",
              "      <td>-62</td>\n",
              "      <td>-117</td>\n",
              "      <td>-294</td>\n",
              "      <td>-92</td>\n",
              "      <td>-71</td>\n",
              "      <td>-144</td>\n",
              "      <td>85</td>\n",
              "      <td>-258</td>\n",
              "      <td>-120</td>\n",
              "      <td>255</td>\n",
              "      <td>60</td>\n",
              "      <td>111</td>\n",
              "      <td>-77</td>\n",
              "      <td>-33</td>\n",
              "      <td>-113</td>\n",
              "      <td>-248</td>\n",
              "      <td>-122</td>\n",
              "      <td>-146</td>\n",
              "      <td>130</td>\n",
              "      <td>-297</td>\n",
              "      <td>-22</td>\n",
              "      <td>23</td>\n",
              "      <td>-188</td>\n",
              "      <td>-58</td>\n",
              "      <td>162</td>\n",
              "    </tr>\n",
              "  </tbody>\n",
              "</table>\n",
              "</div>"
            ],
            "text/plain": [
              "      molecule_name  f36  f92  f66   f1  f126  ...  f44  f22  f86  f130  f164  f42\n",
              "1017              0  211  166  179  114     6  ... -297  -22   23  -188   -58  161\n",
              "1018              0  212  163  179  112     6  ... -297  -22   23  -188   -58  162\n",
              "\n",
              "[2 rows x 49 columns]"
            ]
          },
          "metadata": {
            "tags": []
          },
          "execution_count": 72
        }
      ]
    },
    {
      "cell_type": "code",
      "metadata": {
        "id": "pXX5IXLy3ijO",
        "colab_type": "code",
        "outputId": "a4e9e7dd-ff51-49da-99f3-d69585c32853",
        "colab": {
          "base_uri": "https://localhost:8080/",
          "height": 67
        }
      },
      "source": [
        "Y.head(2)"
      ],
      "execution_count": 73,
      "outputs": [
        {
          "output_type": "execute_result",
          "data": {
            "text/plain": [
              "1017    0\n",
              "1018    0\n",
              "Name: class, dtype: int64"
            ]
          },
          "metadata": {
            "tags": []
          },
          "execution_count": 73
        }
      ]
    },
    {
      "cell_type": "code",
      "metadata": {
        "id": "VZZMIw3G3zeU",
        "colab_type": "code",
        "outputId": "414d80cc-b4ba-4f81-ee50-1d15293eb683",
        "colab": {
          "base_uri": "https://localhost:8080/",
          "height": 235
        }
      },
      "source": [
        "#standardize input features \n",
        "sc = StandardScaler()\n",
        "X = sc.fit_transform(X)\n",
        "X"
      ],
      "execution_count": 74,
      "outputs": [
        {
          "output_type": "execute_result",
          "data": {
            "text/plain": [
              "array([[-1.70798651,  1.9994674 ,  1.4308566 , ..., -0.94303587,\n",
              "        -0.1471547 ,  1.49809288],\n",
              "       [-1.70798651,  2.01775856,  1.38414328, ..., -0.94303587,\n",
              "        -0.1471547 ,  1.5094399 ],\n",
              "       [-1.70798651, -0.04914296,  2.47412072, ..., -0.94303587,\n",
              "        -0.1914836 ,  1.74772742],\n",
              "       ...,\n",
              "       [-0.68101756, -1.43927142, -1.35637141, ..., -0.94303587,\n",
              "        -0.21364804, -0.96421142],\n",
              "       [ 1.37292035, -0.65275137, -0.03282739, ..., -0.94303587,\n",
              "        -0.16931915,  0.85131249],\n",
              "       [-0.68101756, -1.43927142, -1.35637141, ..., -0.94303587,\n",
              "        -0.21364804, -0.96421142]])"
            ]
          },
          "metadata": {
            "tags": []
          },
          "execution_count": 74
        }
      ]
    },
    {
      "cell_type": "markdown",
      "metadata": {
        "id": "WpRTXr1N4Lo2",
        "colab_type": "text"
      },
      "source": [
        "Training the model"
      ]
    },
    {
      "cell_type": "code",
      "metadata": {
        "id": "TlFBJc_I4I-k",
        "colab_type": "code",
        "outputId": "99623d9f-ba4c-4fb3-9fc3-32fe9a779124",
        "colab": {
          "base_uri": "https://localhost:8080/",
          "height": 34
        }
      },
      "source": [
        "X_train, X_test, Y_train, Y_test = train_test_split(X, Y, test_size = 0.2)\n",
        "# Normalize the testing and training set\n",
        "X_train = normalize(X_train)\n",
        "X_test = normalize(X_test)\n",
        "X_train.shape"
      ],
      "execution_count": 75,
      "outputs": [
        {
          "output_type": "execute_result",
          "data": {
            "text/plain": [
              "(8929, 49)"
            ]
          },
          "metadata": {
            "tags": []
          },
          "execution_count": 75
        }
      ]
    },
    {
      "cell_type": "code",
      "metadata": {
        "id": "VZ8xT2jG3si3",
        "colab_type": "code",
        "colab": {}
      },
      "source": [
        "# Defining the model\n",
        "my_model = Sequential()\n",
        "#First layer \n",
        "\n",
        "my_model.add(Dense(25,activation= 'relu', kernel_initializer= 'random_normal', input_shape = (49,)))\n",
        "\n",
        "my_model.add(Dropout(0.5))\n",
        "#Second layer \n",
        "my_model.add(Dense(25, activation='relu', kernel_initializer= 'random_normal'))\n",
        "my_model.add(Dropout(0.5))\n",
        "\n",
        "#output\n",
        "my_model.add(Dense(1, activation='sigmoid', kernel_initializer= 'random_normal'))"
      ],
      "execution_count": 0,
      "outputs": []
    },
    {
      "cell_type": "code",
      "metadata": {
        "id": "KaXfX1Aq4euK",
        "colab_type": "code",
        "outputId": "bc7afccb-5a28-4bcb-d68d-66a3ffb54cad",
        "colab": {
          "base_uri": "https://localhost:8080/",
          "height": 644
        }
      },
      "source": [
        "\n",
        "plot_model(my_model , show_shapes= True, expand_nested= True, to_file= 'model.png')\n"
      ],
      "execution_count": 77,
      "outputs": [
        {
          "output_type": "execute_result",
          "data": {
            "image/png": "[encoded data removed]",
            "text/plain": [
              "<IPython.core.display.Image object>"
            ]
          },
          "metadata": {
            "tags": []
          },
          "execution_count": 77
        }
      ]
    },
    {
      "cell_type": "code",
      "metadata": {
        "id": "_72Z0N0E4n46",
        "colab_type": "code",
        "colab": {}
      },
      "source": [
        "sgd = SGD(lr = 0.01, momentum=0.9)"
      ],
      "execution_count": 0,
      "outputs": []
    },
    {
      "cell_type": "markdown",
      "metadata": {
        "id": "Jtkt3wvo40x_",
        "colab_type": "text"
      },
      "source": [
        "Accuracy Metrices\n"
      ]
    },
    {
      "cell_type": "code",
      "metadata": {
        "id": "zReZhbS14yN_",
        "colab_type": "code",
        "colab": {}
      },
      "source": [
        "def recall_m(y_true, y_pred):\n",
        "        true_positives = K.sum(K.round(K.clip(y_true * y_pred, 0, 1)))\n",
        "        possible_positives = K.sum(K.round(K.clip(y_true, 0, 1)))\n",
        "        recall = true_positives / (possible_positives + K.epsilon())\n",
        "        return recall\n",
        "\n",
        "def precision_m(y_true, y_pred):\n",
        "        true_positives = K.sum(K.round(K.clip(y_true * y_pred, 0, 1)))\n",
        "        predicted_positives = K.sum(K.round(K.clip(y_pred, 0, 1)))\n",
        "        precision = true_positives / (predicted_positives + K.epsilon())\n",
        "        return precision\n",
        "\n",
        "def f1_m(y_true, y_pred):\n",
        "    precision = precision_m(y_true, y_pred)\n",
        "    recall = recall_m(y_true, y_pred)\n",
        "    return 2*((precision*recall)/(precision+recall+K.epsilon()))"
      ],
      "execution_count": 0,
      "outputs": []
    },
    {
      "cell_type": "code",
      "metadata": {
        "id": "hyfr560W8fj6",
        "colab_type": "code",
        "colab": {}
      },
      "source": [
        "my_model.compile(optimizer = sgd, loss = 'binary_crossentropy', metrics= ['acc',f1_m,precision_m, recall_m])"
      ],
      "execution_count": 0,
      "outputs": []
    },
    {
      "cell_type": "code",
      "metadata": {
        "id": "YZK10CGB8x4-",
        "colab_type": "code",
        "outputId": "49736253-f2df-4418-9b25-76eaa2cc2d13",
        "colab": {
          "base_uri": "https://localhost:8080/",
          "height": 726
        }
      },
      "source": [
        "history = my_model.fit(X_train,Y_train, validation_split= 0.20, batch_size = 32, epochs = 20)"
      ],
      "execution_count": 81,
      "outputs": [
        {
          "output_type": "stream",
          "text": [
            "Train on 7143 samples, validate on 1786 samples\n",
            "Epoch 1/20\n",
            "7143/7143 [==============================] - 1s 133us/step - loss: 0.6929 - acc: 0.5100 - f1_m: 0.3765 - precision_m: 0.3858 - recall_m: 0.4873 - val_loss: 0.6920 - val_acc: 0.4888 - val_f1_m: 0.0000e+00 - val_precision_m: 0.0000e+00 - val_recall_m: 0.0000e+00\n",
            "Epoch 2/20\n",
            "7143/7143 [==============================] - 1s 112us/step - loss: 0.6891 - acc: 0.5576 - f1_m: 0.4004 - precision_m: 0.5914 - recall_m: 0.4363 - val_loss: 0.6826 - val_acc: 0.5963 - val_f1_m: 0.3326 - val_precision_m: 0.9799 - val_recall_m: 0.2070\n",
            "Epoch 3/20\n",
            "7143/7143 [==============================] - 1s 115us/step - loss: 0.6479 - acc: 0.6641 - f1_m: 0.5623 - precision_m: 0.7637 - recall_m: 0.5000 - val_loss: 0.5449 - val_acc: 0.8046 - val_f1_m: 0.7899 - val_precision_m: 0.8440 - val_recall_m: 0.7543\n",
            "Epoch 4/20\n",
            "7143/7143 [==============================] - 1s 119us/step - loss: 0.4931 - acc: 0.7788 - f1_m: 0.7666 - precision_m: 0.7939 - recall_m: 0.7555 - val_loss: 0.3733 - val_acc: 0.8399 - val_f1_m: 0.8332 - val_precision_m: 0.8673 - val_recall_m: 0.8090\n",
            "Epoch 5/20\n",
            "7143/7143 [==============================] - 1s 107us/step - loss: 0.4198 - acc: 0.8264 - f1_m: 0.8206 - precision_m: 0.8285 - recall_m: 0.8239 - val_loss: 0.3280 - val_acc: 0.8735 - val_f1_m: 0.8697 - val_precision_m: 0.8887 - val_recall_m: 0.8591\n",
            "Epoch 6/20\n",
            "7143/7143 [==============================] - 1s 111us/step - loss: 0.3792 - acc: 0.8498 - f1_m: 0.8449 - precision_m: 0.8414 - recall_m: 0.8585 - val_loss: 0.3155 - val_acc: 0.8600 - val_f1_m: 0.8515 - val_precision_m: 0.9012 - val_recall_m: 0.8153\n",
            "Epoch 7/20\n",
            "7143/7143 [==============================] - 1s 104us/step - loss: 0.3501 - acc: 0.8607 - f1_m: 0.8607 - precision_m: 0.8493 - recall_m: 0.8798 - val_loss: 0.2877 - val_acc: 0.8908 - val_f1_m: 0.8927 - val_precision_m: 0.8667 - val_recall_m: 0.9262\n",
            "Epoch 8/20\n",
            "7143/7143 [==============================] - 1s 109us/step - loss: 0.3374 - acc: 0.8692 - f1_m: 0.8677 - precision_m: 0.8525 - recall_m: 0.8920 - val_loss: 0.2736 - val_acc: 0.9015 - val_f1_m: 0.9018 - val_precision_m: 0.8811 - val_recall_m: 0.9293\n",
            "Epoch 9/20\n",
            "7143/7143 [==============================] - 1s 112us/step - loss: 0.3187 - acc: 0.8809 - f1_m: 0.8792 - precision_m: 0.8591 - recall_m: 0.9081 - val_loss: 0.2596 - val_acc: 0.9031 - val_f1_m: 0.9017 - val_precision_m: 0.8900 - val_recall_m: 0.9191\n",
            "Epoch 10/20\n",
            "7143/7143 [==============================] - 1s 108us/step - loss: 0.3072 - acc: 0.8866 - f1_m: 0.8860 - precision_m: 0.8710 - recall_m: 0.9111 - val_loss: 0.2460 - val_acc: 0.9065 - val_f1_m: 0.9085 - val_precision_m: 0.8729 - val_recall_m: 0.9516\n",
            "Epoch 11/20\n",
            "7143/7143 [==============================] - 1s 106us/step - loss: 0.2877 - acc: 0.8895 - f1_m: 0.8874 - precision_m: 0.8709 - recall_m: 0.9122 - val_loss: 0.2296 - val_acc: 0.9071 - val_f1_m: 0.9061 - val_precision_m: 0.8984 - val_recall_m: 0.9194\n",
            "Epoch 12/20\n",
            "7143/7143 [==============================] - 1s 111us/step - loss: 0.2736 - acc: 0.8949 - f1_m: 0.8935 - precision_m: 0.8746 - recall_m: 0.9212 - val_loss: 0.2144 - val_acc: 0.9171 - val_f1_m: 0.9191 - val_precision_m: 0.8965 - val_recall_m: 0.9475\n",
            "Epoch 13/20\n",
            "7143/7143 [==============================] - 1s 110us/step - loss: 0.2634 - acc: 0.9047 - f1_m: 0.9033 - precision_m: 0.8838 - recall_m: 0.9299 - val_loss: 0.1991 - val_acc: 0.9300 - val_f1_m: 0.9306 - val_precision_m: 0.9163 - val_recall_m: 0.9498\n",
            "Epoch 14/20\n",
            "7143/7143 [==============================] - 1s 114us/step - loss: 0.2523 - acc: 0.9068 - f1_m: 0.9061 - precision_m: 0.8932 - recall_m: 0.9255 - val_loss: 0.1872 - val_acc: 0.9272 - val_f1_m: 0.9285 - val_precision_m: 0.9016 - val_recall_m: 0.9625\n",
            "Epoch 15/20\n",
            "7143/7143 [==============================] - 1s 119us/step - loss: 0.2397 - acc: 0.9084 - f1_m: 0.9078 - precision_m: 0.8898 - recall_m: 0.9332 - val_loss: 0.1853 - val_acc: 0.9334 - val_f1_m: 0.9323 - val_precision_m: 0.9301 - val_recall_m: 0.9387\n",
            "Epoch 16/20\n",
            "7143/7143 [==============================] - 1s 108us/step - loss: 0.2297 - acc: 0.9118 - f1_m: 0.9111 - precision_m: 0.8921 - recall_m: 0.9366 - val_loss: 0.1778 - val_acc: 0.9272 - val_f1_m: 0.9242 - val_precision_m: 0.9408 - val_recall_m: 0.9123\n",
            "Epoch 17/20\n",
            "7143/7143 [==============================] - 1s 114us/step - loss: 0.2206 - acc: 0.9090 - f1_m: 0.9079 - precision_m: 0.8904 - recall_m: 0.9324 - val_loss: 0.1557 - val_acc: 0.9401 - val_f1_m: 0.9389 - val_precision_m: 0.9359 - val_recall_m: 0.9452\n",
            "Epoch 18/20\n",
            "7143/7143 [==============================] - 1s 117us/step - loss: 0.2117 - acc: 0.9196 - f1_m: 0.9188 - precision_m: 0.8970 - recall_m: 0.9467 - val_loss: 0.1475 - val_acc: 0.9485 - val_f1_m: 0.9479 - val_precision_m: 0.9353 - val_recall_m: 0.9641\n",
            "Epoch 19/20\n",
            "7143/7143 [==============================] - 1s 115us/step - loss: 0.2026 - acc: 0.9236 - f1_m: 0.9229 - precision_m: 0.9059 - recall_m: 0.9454 - val_loss: 0.1597 - val_acc: 0.9384 - val_f1_m: 0.9349 - val_precision_m: 0.9469 - val_recall_m: 0.9284\n",
            "Epoch 20/20\n",
            "7143/7143 [==============================] - 1s 117us/step - loss: 0.1880 - acc: 0.9296 - f1_m: 0.9296 - precision_m: 0.9088 - recall_m: 0.9565 - val_loss: 0.1345 - val_acc: 0.9513 - val_f1_m: 0.9505 - val_precision_m: 0.9373 - val_recall_m: 0.9676\n"
          ],
          "name": "stdout"
        }
      ]
    },
    {
      "cell_type": "code",
      "metadata": {
        "id": "2D4OVEiy8zF7",
        "colab_type": "code",
        "outputId": "707b6304-42d7-4487-ac3c-95dd3245577f",
        "colab": {
          "base_uri": "https://localhost:8080/",
          "height": 34
        }
      },
      "source": [
        "print(history.history.keys())"
      ],
      "execution_count": 82,
      "outputs": [
        {
          "output_type": "stream",
          "text": [
            "dict_keys(['val_loss', 'val_acc', 'val_f1_m', 'val_precision_m', 'val_recall_m', 'loss', 'acc', 'f1_m', 'precision_m', 'recall_m'])\n"
          ],
          "name": "stdout"
        }
      ]
    },
    {
      "cell_type": "code",
      "metadata": {
        "id": "p_Y4Mppd9kyp",
        "colab_type": "code",
        "outputId": "1176f436-8ad6-45b4-a643-ac5da4be3e57",
        "colab": {
          "base_uri": "https://localhost:8080/",
          "height": 34
        }
      },
      "source": [
        "val_accuracy = history.history['val_acc']\n",
        "#print(val_accuracy)\n",
        "val_mean_acc = np.mean(val_accuracy)\n",
        "print(val_mean_acc)\n"
      ],
      "execution_count": 83,
      "outputs": [
        {
          "output_type": "stream",
          "text": [
            "0.8692609161138535\n"
          ],
          "name": "stdout"
        }
      ]
    },
    {
      "cell_type": "code",
      "metadata": {
        "id": "InuBqJql9nZQ",
        "colab_type": "code",
        "outputId": "06a6f557-104d-4e10-fad5-5f033d2593e4",
        "colab": {
          "base_uri": "https://localhost:8080/",
          "height": 34
        }
      },
      "source": [
        "loss, accuracy, f1_score, precision, recall = my_model.evaluate(X_train,Y_train, verbose=0)\n",
        "print(loss, accuracy, f1_score, precision, recall)\n"
      ],
      "execution_count": 84,
      "outputs": [
        {
          "output_type": "stream",
          "text": [
            "0.130253960962044 0.9552021622657776 0.9550321102142334 0.9407426118850708 0.9726693034172058\n"
          ],
          "name": "stdout"
        }
      ]
    },
    {
      "cell_type": "code",
      "metadata": {
        "id": "Mb7JSKGC9vb_",
        "colab_type": "code",
        "outputId": "71089afd-a0aa-4392-c479-e6a288a914e6",
        "colab": {
          "base_uri": "https://localhost:8080/",
          "height": 295
        }
      },
      "source": [
        "#Plot model accuracy\n",
        "plt.plot(history.history['acc'])\n",
        "plt.plot(history.history['val_acc'])\n",
        "plt.title('Model Accuracy')\n",
        "plt.ylabel('Accuracy')\n",
        "plt.xlabel('Epoch')\n",
        "plt.legend(['Train','Test'], loc = 'upper left')\n",
        "plt.show()"
      ],
      "execution_count": 85,
      "outputs": [
        {
          "output_type": "display_data",
          "data": {
            "image/png": "[encoded data removed]",
            "text/plain": [
              "<Figure size 432x288 with 1 Axes>"
            ]
          },
          "metadata": {
            "tags": [],
            "needs_background": "light"
          }
        }
      ]
    },
    {
      "cell_type": "code",
      "metadata": {
        "id": "DrgSkqUW9zU7",
        "colab_type": "code",
        "outputId": "0a6b3996-f05a-4821-b88c-82b32ab882d7",
        "colab": {
          "base_uri": "https://localhost:8080/",
          "height": 295
        }
      },
      "source": [
        "#plot model History\n",
        "plt.plot(history.history['loss'])\n",
        "plt.plot(history.history['val_loss'])\n",
        "plt.title('Model Loss')\n",
        "plt.ylabel('Loss')\n",
        "plt.xlabel('Epoch')\n",
        "plt.legend(['Train','Test'], loc = 'upper left')\n",
        "plt.show()"
      ],
      "execution_count": 86,
      "outputs": [
        {
          "output_type": "display_data",
          "data": {
            "image/png": "[encoded data removed]",
            "text/plain": [
              "<Figure size 432x288 with 1 Axes>"
            ]
          },
          "metadata": {
            "tags": [],
            "needs_background": "light"
          }
        }
      ]
    },
    {
      "cell_type": "code",
      "metadata": {
        "id": "eKZyXJOI92Mk",
        "colab_type": "code",
        "outputId": "b9406be2-e569-44aa-bda7-331d003a848e",
        "colab": {
          "base_uri": "https://localhost:8080/",
          "height": 50
        }
      },
      "source": [
        "y_pred = my_model.predict(X_test)\n",
        "y_pred =(y_pred>0.5)\n",
        "list(y_pred)\n",
        "\n",
        "cm = confusion_matrix(Y_test, y_pred)\n",
        "print(cm)"
      ],
      "execution_count": 87,
      "outputs": [
        {
          "output_type": "stream",
          "text": [
            "[[1023   93]\n",
            " [  44 1073]]\n"
          ],
          "name": "stdout"
        }
      ]
    },
    {
      "cell_type": "code",
      "metadata": {
        "id": "BCT2A1SG95L2",
        "colab_type": "code",
        "outputId": "cf489e34-75e5-424e-bb84-a2856922050c",
        "colab": {
          "base_uri": "https://localhost:8080/",
          "height": 118
        }
      },
      "source": [
        "print(\"Accuracy\", accuracy *100)\n",
        "print(\"Loss\", loss*100)\n",
        "print(\"F1- score\", f1_score)\n",
        "print(\"Recall\", recall)\n",
        "print(\"Precision\", precision)\n",
        "print(\"Validation accuracy\", val_mean_acc)"
      ],
      "execution_count": 88,
      "outputs": [
        {
          "output_type": "stream",
          "text": [
            "Accuracy 95.52021622657776\n",
            "Loss 13.0253960962044\n",
            "F1- score 0.9550321102142334\n",
            "Recall 0.9726693034172058\n",
            "Precision 0.9407426118850708\n",
            "Validation accuracy 0.8692609161138535\n"
          ],
          "name": "stdout"
        }
      ]
    },
    {
      "cell_type": "code",
      "metadata": {
        "id": "h0TV_lHt97Vy",
        "colab_type": "code",
        "colab": {}
      },
      "source": [
        "my_model.save(\"my_model.h5\")"
      ],
      "execution_count": 0,
      "outputs": []
    },
    {
      "cell_type": "code",
      "metadata": {
        "id": "NLgbVXe7BFqp",
        "colab_type": "code",
        "colab": {}
      },
      "source": [
        "\n"
      ],
      "execution_count": 0,
      "outputs": []
    },
    {
      "cell_type": "code",
      "metadata": {
        "id": "MrTIuPEHfo1O",
        "colab_type": "code",
        "colab": {}
      },
      "source": [
        ""
      ],
      "execution_count": 0,
      "outputs": []
    }
  ]
}